{
 "metadata": {
  "name": ""
 },
 "nbformat": 3,
 "nbformat_minor": 0,
 "worksheets": [
  {
   "cells": [
    {
     "cell_type": "heading",
     "level": 1,
     "metadata": {},
     "source": [
      "Question 1). Implement the KNN classification using the sklearn python package."
     ]
    },
    {
     "cell_type": "code",
     "collapsed": false,
     "input": [
      "from sklearn import datasets"
     ],
     "language": "python",
     "metadata": {},
     "outputs": [],
     "prompt_number": 118
    },
    {
     "cell_type": "code",
     "collapsed": false,
     "input": [
      "import pandas as pd"
     ],
     "language": "python",
     "metadata": {},
     "outputs": [],
     "prompt_number": 119
    },
    {
     "cell_type": "code",
     "collapsed": false,
     "input": [
      "# Load the data using the pandas read_csv package.\n",
      "data = pd.read_csv('iris_data.csv', names=['SepalLength','SepalWidth','PetalLenght','PetalWidth','LabelName'])"
     ],
     "language": "python",
     "metadata": {},
     "outputs": [],
     "prompt_number": 120
    },
    {
     "cell_type": "code",
     "collapsed": false,
     "input": [
      "data.head()"
     ],
     "language": "python",
     "metadata": {},
     "outputs": [
      {
       "html": [
        "<div style=\"max-height:1000px;max-width:1500px;overflow:auto;\">\n",
        "<table border=\"1\" class=\"dataframe\">\n",
        "  <thead>\n",
        "    <tr style=\"text-align: right;\">\n",
        "      <th></th>\n",
        "      <th>SepalLength</th>\n",
        "      <th>SepalWidth</th>\n",
        "      <th>PetalLenght</th>\n",
        "      <th>PetalWidth</th>\n",
        "      <th>LabelName</th>\n",
        "    </tr>\n",
        "  </thead>\n",
        "  <tbody>\n",
        "    <tr>\n",
        "      <th>0</th>\n",
        "      <td> 5.1</td>\n",
        "      <td> 3.5</td>\n",
        "      <td> 1.4</td>\n",
        "      <td> 0.2</td>\n",
        "      <td> Iris-setosa</td>\n",
        "    </tr>\n",
        "    <tr>\n",
        "      <th>1</th>\n",
        "      <td> 4.9</td>\n",
        "      <td> 3.0</td>\n",
        "      <td> 1.4</td>\n",
        "      <td> 0.2</td>\n",
        "      <td> Iris-setosa</td>\n",
        "    </tr>\n",
        "    <tr>\n",
        "      <th>2</th>\n",
        "      <td> 4.7</td>\n",
        "      <td> 3.2</td>\n",
        "      <td> 1.3</td>\n",
        "      <td> 0.2</td>\n",
        "      <td> Iris-setosa</td>\n",
        "    </tr>\n",
        "    <tr>\n",
        "      <th>3</th>\n",
        "      <td> 4.6</td>\n",
        "      <td> 3.1</td>\n",
        "      <td> 1.5</td>\n",
        "      <td> 0.2</td>\n",
        "      <td> Iris-setosa</td>\n",
        "    </tr>\n",
        "    <tr>\n",
        "      <th>4</th>\n",
        "      <td> 5.0</td>\n",
        "      <td> 3.6</td>\n",
        "      <td> 1.4</td>\n",
        "      <td> 0.2</td>\n",
        "      <td> Iris-setosa</td>\n",
        "    </tr>\n",
        "  </tbody>\n",
        "</table>\n",
        "<p>5 rows \u00d7 5 columns</p>\n",
        "</div>"
       ],
       "metadata": {},
       "output_type": "pyout",
       "prompt_number": 121,
       "text": [
        "   SepalLength  SepalWidth  PetalLenght  PetalWidth    LabelName\n",
        "0          5.1         3.5          1.4         0.2  Iris-setosa\n",
        "1          4.9         3.0          1.4         0.2  Iris-setosa\n",
        "2          4.7         3.2          1.3         0.2  Iris-setosa\n",
        "3          4.6         3.1          1.5         0.2  Iris-setosa\n",
        "4          5.0         3.6          1.4         0.2  Iris-setosa\n",
        "\n",
        "[5 rows x 5 columns]"
       ]
      }
     ],
     "prompt_number": 121
    },
    {
     "cell_type": "code",
     "collapsed": false,
     "input": [
      "import numpy as np"
     ],
     "language": "python",
     "metadata": {},
     "outputs": [],
     "prompt_number": 122
    },
    {
     "cell_type": "markdown",
     "metadata": {},
     "source": [
      "# Transform the data within the dataframe from the Iris dataset. Do some data wrangling."
     ]
    },
    {
     "cell_type": "code",
     "collapsed": false,
     "input": [
      "data.ix[data.LabelName=='Iris-setosa','New_Target'] = 0\n",
      "data.ix[data.LabelName=='Iris-versicolor','New_Target'] = 1\n",
      "data.ix[data.LabelName=='Iris-virginica','New_Target'] = 2\n",
      "\n",
      "data.ix[data.LabelName=='Iris-setosa','LabelName'] = 'setosa'\n",
      "data.ix[data.LabelName=='Iris-versicolor','LabelName'] = 'versicolor'\n",
      "data.ix[data.LabelName=='Iris-virginica','LabelName'] = 'virginica'"
     ],
     "language": "python",
     "metadata": {},
     "outputs": [],
     "prompt_number": 123
    },
    {
     "cell_type": "code",
     "collapsed": false,
     "input": [
      "data"
     ],
     "language": "python",
     "metadata": {},
     "outputs": [
      {
       "html": [
        "<div style=\"max-height:1000px;max-width:1500px;overflow:auto;\">\n",
        "<table border=\"1\" class=\"dataframe\">\n",
        "  <thead>\n",
        "    <tr style=\"text-align: right;\">\n",
        "      <th></th>\n",
        "      <th>SepalLength</th>\n",
        "      <th>SepalWidth</th>\n",
        "      <th>PetalLenght</th>\n",
        "      <th>PetalWidth</th>\n",
        "      <th>LabelName</th>\n",
        "      <th>New_Target</th>\n",
        "    </tr>\n",
        "  </thead>\n",
        "  <tbody>\n",
        "    <tr>\n",
        "      <th>0 </th>\n",
        "      <td> 5.1</td>\n",
        "      <td> 3.5</td>\n",
        "      <td> 1.4</td>\n",
        "      <td> 0.2</td>\n",
        "      <td>     setosa</td>\n",
        "      <td> 0</td>\n",
        "    </tr>\n",
        "    <tr>\n",
        "      <th>1 </th>\n",
        "      <td> 4.9</td>\n",
        "      <td> 3.0</td>\n",
        "      <td> 1.4</td>\n",
        "      <td> 0.2</td>\n",
        "      <td>     setosa</td>\n",
        "      <td> 0</td>\n",
        "    </tr>\n",
        "    <tr>\n",
        "      <th>2 </th>\n",
        "      <td> 4.7</td>\n",
        "      <td> 3.2</td>\n",
        "      <td> 1.3</td>\n",
        "      <td> 0.2</td>\n",
        "      <td>     setosa</td>\n",
        "      <td> 0</td>\n",
        "    </tr>\n",
        "    <tr>\n",
        "      <th>3 </th>\n",
        "      <td> 4.6</td>\n",
        "      <td> 3.1</td>\n",
        "      <td> 1.5</td>\n",
        "      <td> 0.2</td>\n",
        "      <td>     setosa</td>\n",
        "      <td> 0</td>\n",
        "    </tr>\n",
        "    <tr>\n",
        "      <th>4 </th>\n",
        "      <td> 5.0</td>\n",
        "      <td> 3.6</td>\n",
        "      <td> 1.4</td>\n",
        "      <td> 0.2</td>\n",
        "      <td>     setosa</td>\n",
        "      <td> 0</td>\n",
        "    </tr>\n",
        "    <tr>\n",
        "      <th>5 </th>\n",
        "      <td> 5.4</td>\n",
        "      <td> 3.9</td>\n",
        "      <td> 1.7</td>\n",
        "      <td> 0.4</td>\n",
        "      <td>     setosa</td>\n",
        "      <td> 0</td>\n",
        "    </tr>\n",
        "    <tr>\n",
        "      <th>6 </th>\n",
        "      <td> 4.6</td>\n",
        "      <td> 3.4</td>\n",
        "      <td> 1.4</td>\n",
        "      <td> 0.3</td>\n",
        "      <td>     setosa</td>\n",
        "      <td> 0</td>\n",
        "    </tr>\n",
        "    <tr>\n",
        "      <th>7 </th>\n",
        "      <td> 5.0</td>\n",
        "      <td> 3.4</td>\n",
        "      <td> 1.5</td>\n",
        "      <td> 0.2</td>\n",
        "      <td>     setosa</td>\n",
        "      <td> 0</td>\n",
        "    </tr>\n",
        "    <tr>\n",
        "      <th>8 </th>\n",
        "      <td> 4.4</td>\n",
        "      <td> 2.9</td>\n",
        "      <td> 1.4</td>\n",
        "      <td> 0.2</td>\n",
        "      <td>     setosa</td>\n",
        "      <td> 0</td>\n",
        "    </tr>\n",
        "    <tr>\n",
        "      <th>9 </th>\n",
        "      <td> 4.9</td>\n",
        "      <td> 3.1</td>\n",
        "      <td> 1.5</td>\n",
        "      <td> 0.1</td>\n",
        "      <td>     setosa</td>\n",
        "      <td> 0</td>\n",
        "    </tr>\n",
        "    <tr>\n",
        "      <th>10</th>\n",
        "      <td> 5.4</td>\n",
        "      <td> 3.7</td>\n",
        "      <td> 1.5</td>\n",
        "      <td> 0.2</td>\n",
        "      <td>     setosa</td>\n",
        "      <td> 0</td>\n",
        "    </tr>\n",
        "    <tr>\n",
        "      <th>11</th>\n",
        "      <td> 4.8</td>\n",
        "      <td> 3.4</td>\n",
        "      <td> 1.6</td>\n",
        "      <td> 0.2</td>\n",
        "      <td>     setosa</td>\n",
        "      <td> 0</td>\n",
        "    </tr>\n",
        "    <tr>\n",
        "      <th>12</th>\n",
        "      <td> 4.8</td>\n",
        "      <td> 3.0</td>\n",
        "      <td> 1.4</td>\n",
        "      <td> 0.1</td>\n",
        "      <td>     setosa</td>\n",
        "      <td> 0</td>\n",
        "    </tr>\n",
        "    <tr>\n",
        "      <th>13</th>\n",
        "      <td> 4.3</td>\n",
        "      <td> 3.0</td>\n",
        "      <td> 1.1</td>\n",
        "      <td> 0.1</td>\n",
        "      <td>     setosa</td>\n",
        "      <td> 0</td>\n",
        "    </tr>\n",
        "    <tr>\n",
        "      <th>14</th>\n",
        "      <td> 5.8</td>\n",
        "      <td> 4.0</td>\n",
        "      <td> 1.2</td>\n",
        "      <td> 0.2</td>\n",
        "      <td>     setosa</td>\n",
        "      <td> 0</td>\n",
        "    </tr>\n",
        "    <tr>\n",
        "      <th>15</th>\n",
        "      <td> 5.7</td>\n",
        "      <td> 4.4</td>\n",
        "      <td> 1.5</td>\n",
        "      <td> 0.4</td>\n",
        "      <td>     setosa</td>\n",
        "      <td> 0</td>\n",
        "    </tr>\n",
        "    <tr>\n",
        "      <th>16</th>\n",
        "      <td> 5.4</td>\n",
        "      <td> 3.9</td>\n",
        "      <td> 1.3</td>\n",
        "      <td> 0.4</td>\n",
        "      <td>     setosa</td>\n",
        "      <td> 0</td>\n",
        "    </tr>\n",
        "    <tr>\n",
        "      <th>17</th>\n",
        "      <td> 5.1</td>\n",
        "      <td> 3.5</td>\n",
        "      <td> 1.4</td>\n",
        "      <td> 0.3</td>\n",
        "      <td>     setosa</td>\n",
        "      <td> 0</td>\n",
        "    </tr>\n",
        "    <tr>\n",
        "      <th>18</th>\n",
        "      <td> 5.7</td>\n",
        "      <td> 3.8</td>\n",
        "      <td> 1.7</td>\n",
        "      <td> 0.3</td>\n",
        "      <td>     setosa</td>\n",
        "      <td> 0</td>\n",
        "    </tr>\n",
        "    <tr>\n",
        "      <th>19</th>\n",
        "      <td> 5.1</td>\n",
        "      <td> 3.8</td>\n",
        "      <td> 1.5</td>\n",
        "      <td> 0.3</td>\n",
        "      <td>     setosa</td>\n",
        "      <td> 0</td>\n",
        "    </tr>\n",
        "    <tr>\n",
        "      <th>20</th>\n",
        "      <td> 5.4</td>\n",
        "      <td> 3.4</td>\n",
        "      <td> 1.7</td>\n",
        "      <td> 0.2</td>\n",
        "      <td>     setosa</td>\n",
        "      <td> 0</td>\n",
        "    </tr>\n",
        "    <tr>\n",
        "      <th>21</th>\n",
        "      <td> 5.1</td>\n",
        "      <td> 3.7</td>\n",
        "      <td> 1.5</td>\n",
        "      <td> 0.4</td>\n",
        "      <td>     setosa</td>\n",
        "      <td> 0</td>\n",
        "    </tr>\n",
        "    <tr>\n",
        "      <th>22</th>\n",
        "      <td> 4.6</td>\n",
        "      <td> 3.6</td>\n",
        "      <td> 1.0</td>\n",
        "      <td> 0.2</td>\n",
        "      <td>     setosa</td>\n",
        "      <td> 0</td>\n",
        "    </tr>\n",
        "    <tr>\n",
        "      <th>23</th>\n",
        "      <td> 5.1</td>\n",
        "      <td> 3.3</td>\n",
        "      <td> 1.7</td>\n",
        "      <td> 0.5</td>\n",
        "      <td>     setosa</td>\n",
        "      <td> 0</td>\n",
        "    </tr>\n",
        "    <tr>\n",
        "      <th>24</th>\n",
        "      <td> 4.8</td>\n",
        "      <td> 3.4</td>\n",
        "      <td> 1.9</td>\n",
        "      <td> 0.2</td>\n",
        "      <td>     setosa</td>\n",
        "      <td> 0</td>\n",
        "    </tr>\n",
        "    <tr>\n",
        "      <th>25</th>\n",
        "      <td> 5.0</td>\n",
        "      <td> 3.0</td>\n",
        "      <td> 1.6</td>\n",
        "      <td> 0.2</td>\n",
        "      <td>     setosa</td>\n",
        "      <td> 0</td>\n",
        "    </tr>\n",
        "    <tr>\n",
        "      <th>26</th>\n",
        "      <td> 5.0</td>\n",
        "      <td> 3.4</td>\n",
        "      <td> 1.6</td>\n",
        "      <td> 0.4</td>\n",
        "      <td>     setosa</td>\n",
        "      <td> 0</td>\n",
        "    </tr>\n",
        "    <tr>\n",
        "      <th>27</th>\n",
        "      <td> 5.2</td>\n",
        "      <td> 3.5</td>\n",
        "      <td> 1.5</td>\n",
        "      <td> 0.2</td>\n",
        "      <td>     setosa</td>\n",
        "      <td> 0</td>\n",
        "    </tr>\n",
        "    <tr>\n",
        "      <th>28</th>\n",
        "      <td> 5.2</td>\n",
        "      <td> 3.4</td>\n",
        "      <td> 1.4</td>\n",
        "      <td> 0.2</td>\n",
        "      <td>     setosa</td>\n",
        "      <td> 0</td>\n",
        "    </tr>\n",
        "    <tr>\n",
        "      <th>29</th>\n",
        "      <td> 4.7</td>\n",
        "      <td> 3.2</td>\n",
        "      <td> 1.6</td>\n",
        "      <td> 0.2</td>\n",
        "      <td>     setosa</td>\n",
        "      <td> 0</td>\n",
        "    </tr>\n",
        "    <tr>\n",
        "      <th>30</th>\n",
        "      <td> 4.8</td>\n",
        "      <td> 3.1</td>\n",
        "      <td> 1.6</td>\n",
        "      <td> 0.2</td>\n",
        "      <td>     setosa</td>\n",
        "      <td> 0</td>\n",
        "    </tr>\n",
        "    <tr>\n",
        "      <th>31</th>\n",
        "      <td> 5.4</td>\n",
        "      <td> 3.4</td>\n",
        "      <td> 1.5</td>\n",
        "      <td> 0.4</td>\n",
        "      <td>     setosa</td>\n",
        "      <td> 0</td>\n",
        "    </tr>\n",
        "    <tr>\n",
        "      <th>32</th>\n",
        "      <td> 5.2</td>\n",
        "      <td> 4.1</td>\n",
        "      <td> 1.5</td>\n",
        "      <td> 0.1</td>\n",
        "      <td>     setosa</td>\n",
        "      <td> 0</td>\n",
        "    </tr>\n",
        "    <tr>\n",
        "      <th>33</th>\n",
        "      <td> 5.5</td>\n",
        "      <td> 4.2</td>\n",
        "      <td> 1.4</td>\n",
        "      <td> 0.2</td>\n",
        "      <td>     setosa</td>\n",
        "      <td> 0</td>\n",
        "    </tr>\n",
        "    <tr>\n",
        "      <th>34</th>\n",
        "      <td> 4.9</td>\n",
        "      <td> 3.1</td>\n",
        "      <td> 1.5</td>\n",
        "      <td> 0.1</td>\n",
        "      <td>     setosa</td>\n",
        "      <td> 0</td>\n",
        "    </tr>\n",
        "    <tr>\n",
        "      <th>35</th>\n",
        "      <td> 5.0</td>\n",
        "      <td> 3.2</td>\n",
        "      <td> 1.2</td>\n",
        "      <td> 0.2</td>\n",
        "      <td>     setosa</td>\n",
        "      <td> 0</td>\n",
        "    </tr>\n",
        "    <tr>\n",
        "      <th>36</th>\n",
        "      <td> 5.5</td>\n",
        "      <td> 3.5</td>\n",
        "      <td> 1.3</td>\n",
        "      <td> 0.2</td>\n",
        "      <td>     setosa</td>\n",
        "      <td> 0</td>\n",
        "    </tr>\n",
        "    <tr>\n",
        "      <th>37</th>\n",
        "      <td> 4.9</td>\n",
        "      <td> 3.1</td>\n",
        "      <td> 1.5</td>\n",
        "      <td> 0.1</td>\n",
        "      <td>     setosa</td>\n",
        "      <td> 0</td>\n",
        "    </tr>\n",
        "    <tr>\n",
        "      <th>38</th>\n",
        "      <td> 4.4</td>\n",
        "      <td> 3.0</td>\n",
        "      <td> 1.3</td>\n",
        "      <td> 0.2</td>\n",
        "      <td>     setosa</td>\n",
        "      <td> 0</td>\n",
        "    </tr>\n",
        "    <tr>\n",
        "      <th>39</th>\n",
        "      <td> 5.1</td>\n",
        "      <td> 3.4</td>\n",
        "      <td> 1.5</td>\n",
        "      <td> 0.2</td>\n",
        "      <td>     setosa</td>\n",
        "      <td> 0</td>\n",
        "    </tr>\n",
        "    <tr>\n",
        "      <th>40</th>\n",
        "      <td> 5.0</td>\n",
        "      <td> 3.5</td>\n",
        "      <td> 1.3</td>\n",
        "      <td> 0.3</td>\n",
        "      <td>     setosa</td>\n",
        "      <td> 0</td>\n",
        "    </tr>\n",
        "    <tr>\n",
        "      <th>41</th>\n",
        "      <td> 4.5</td>\n",
        "      <td> 2.3</td>\n",
        "      <td> 1.3</td>\n",
        "      <td> 0.3</td>\n",
        "      <td>     setosa</td>\n",
        "      <td> 0</td>\n",
        "    </tr>\n",
        "    <tr>\n",
        "      <th>42</th>\n",
        "      <td> 4.4</td>\n",
        "      <td> 3.2</td>\n",
        "      <td> 1.3</td>\n",
        "      <td> 0.2</td>\n",
        "      <td>     setosa</td>\n",
        "      <td> 0</td>\n",
        "    </tr>\n",
        "    <tr>\n",
        "      <th>43</th>\n",
        "      <td> 5.0</td>\n",
        "      <td> 3.5</td>\n",
        "      <td> 1.6</td>\n",
        "      <td> 0.6</td>\n",
        "      <td>     setosa</td>\n",
        "      <td> 0</td>\n",
        "    </tr>\n",
        "    <tr>\n",
        "      <th>44</th>\n",
        "      <td> 5.1</td>\n",
        "      <td> 3.8</td>\n",
        "      <td> 1.9</td>\n",
        "      <td> 0.4</td>\n",
        "      <td>     setosa</td>\n",
        "      <td> 0</td>\n",
        "    </tr>\n",
        "    <tr>\n",
        "      <th>45</th>\n",
        "      <td> 4.8</td>\n",
        "      <td> 3.0</td>\n",
        "      <td> 1.4</td>\n",
        "      <td> 0.3</td>\n",
        "      <td>     setosa</td>\n",
        "      <td> 0</td>\n",
        "    </tr>\n",
        "    <tr>\n",
        "      <th>46</th>\n",
        "      <td> 5.1</td>\n",
        "      <td> 3.8</td>\n",
        "      <td> 1.6</td>\n",
        "      <td> 0.2</td>\n",
        "      <td>     setosa</td>\n",
        "      <td> 0</td>\n",
        "    </tr>\n",
        "    <tr>\n",
        "      <th>47</th>\n",
        "      <td> 4.6</td>\n",
        "      <td> 3.2</td>\n",
        "      <td> 1.4</td>\n",
        "      <td> 0.2</td>\n",
        "      <td>     setosa</td>\n",
        "      <td> 0</td>\n",
        "    </tr>\n",
        "    <tr>\n",
        "      <th>48</th>\n",
        "      <td> 5.3</td>\n",
        "      <td> 3.7</td>\n",
        "      <td> 1.5</td>\n",
        "      <td> 0.2</td>\n",
        "      <td>     setosa</td>\n",
        "      <td> 0</td>\n",
        "    </tr>\n",
        "    <tr>\n",
        "      <th>49</th>\n",
        "      <td> 5.0</td>\n",
        "      <td> 3.3</td>\n",
        "      <td> 1.4</td>\n",
        "      <td> 0.2</td>\n",
        "      <td>     setosa</td>\n",
        "      <td> 0</td>\n",
        "    </tr>\n",
        "    <tr>\n",
        "      <th>50</th>\n",
        "      <td> 7.0</td>\n",
        "      <td> 3.2</td>\n",
        "      <td> 4.7</td>\n",
        "      <td> 1.4</td>\n",
        "      <td> versicolor</td>\n",
        "      <td> 1</td>\n",
        "    </tr>\n",
        "    <tr>\n",
        "      <th>51</th>\n",
        "      <td> 6.4</td>\n",
        "      <td> 3.2</td>\n",
        "      <td> 4.5</td>\n",
        "      <td> 1.5</td>\n",
        "      <td> versicolor</td>\n",
        "      <td> 1</td>\n",
        "    </tr>\n",
        "    <tr>\n",
        "      <th>52</th>\n",
        "      <td> 6.9</td>\n",
        "      <td> 3.1</td>\n",
        "      <td> 4.9</td>\n",
        "      <td> 1.5</td>\n",
        "      <td> versicolor</td>\n",
        "      <td> 1</td>\n",
        "    </tr>\n",
        "    <tr>\n",
        "      <th>53</th>\n",
        "      <td> 5.5</td>\n",
        "      <td> 2.3</td>\n",
        "      <td> 4.0</td>\n",
        "      <td> 1.3</td>\n",
        "      <td> versicolor</td>\n",
        "      <td> 1</td>\n",
        "    </tr>\n",
        "    <tr>\n",
        "      <th>54</th>\n",
        "      <td> 6.5</td>\n",
        "      <td> 2.8</td>\n",
        "      <td> 4.6</td>\n",
        "      <td> 1.5</td>\n",
        "      <td> versicolor</td>\n",
        "      <td> 1</td>\n",
        "    </tr>\n",
        "    <tr>\n",
        "      <th>55</th>\n",
        "      <td> 5.7</td>\n",
        "      <td> 2.8</td>\n",
        "      <td> 4.5</td>\n",
        "      <td> 1.3</td>\n",
        "      <td> versicolor</td>\n",
        "      <td> 1</td>\n",
        "    </tr>\n",
        "    <tr>\n",
        "      <th>56</th>\n",
        "      <td> 6.3</td>\n",
        "      <td> 3.3</td>\n",
        "      <td> 4.7</td>\n",
        "      <td> 1.6</td>\n",
        "      <td> versicolor</td>\n",
        "      <td> 1</td>\n",
        "    </tr>\n",
        "    <tr>\n",
        "      <th>57</th>\n",
        "      <td> 4.9</td>\n",
        "      <td> 2.4</td>\n",
        "      <td> 3.3</td>\n",
        "      <td> 1.0</td>\n",
        "      <td> versicolor</td>\n",
        "      <td> 1</td>\n",
        "    </tr>\n",
        "    <tr>\n",
        "      <th>58</th>\n",
        "      <td> 6.6</td>\n",
        "      <td> 2.9</td>\n",
        "      <td> 4.6</td>\n",
        "      <td> 1.3</td>\n",
        "      <td> versicolor</td>\n",
        "      <td> 1</td>\n",
        "    </tr>\n",
        "    <tr>\n",
        "      <th>59</th>\n",
        "      <td> 5.2</td>\n",
        "      <td> 2.7</td>\n",
        "      <td> 3.9</td>\n",
        "      <td> 1.4</td>\n",
        "      <td> versicolor</td>\n",
        "      <td> 1</td>\n",
        "    </tr>\n",
        "    <tr>\n",
        "      <th></th>\n",
        "      <td>...</td>\n",
        "      <td>...</td>\n",
        "      <td>...</td>\n",
        "      <td>...</td>\n",
        "      <td>...</td>\n",
        "      <td>...</td>\n",
        "    </tr>\n",
        "  </tbody>\n",
        "</table>\n",
        "<p>151 rows \u00d7 6 columns</p>\n",
        "</div>"
       ],
       "metadata": {},
       "output_type": "pyout",
       "prompt_number": 124,
       "text": [
        "    SepalLength  SepalWidth  PetalLenght  PetalWidth   LabelName  New_Target\n",
        "0           5.1         3.5          1.4         0.2      setosa           0\n",
        "1           4.9         3.0          1.4         0.2      setosa           0\n",
        "2           4.7         3.2          1.3         0.2      setosa           0\n",
        "3           4.6         3.1          1.5         0.2      setosa           0\n",
        "4           5.0         3.6          1.4         0.2      setosa           0\n",
        "5           5.4         3.9          1.7         0.4      setosa           0\n",
        "6           4.6         3.4          1.4         0.3      setosa           0\n",
        "7           5.0         3.4          1.5         0.2      setosa           0\n",
        "8           4.4         2.9          1.4         0.2      setosa           0\n",
        "9           4.9         3.1          1.5         0.1      setosa           0\n",
        "10          5.4         3.7          1.5         0.2      setosa           0\n",
        "11          4.8         3.4          1.6         0.2      setosa           0\n",
        "12          4.8         3.0          1.4         0.1      setosa           0\n",
        "13          4.3         3.0          1.1         0.1      setosa           0\n",
        "14          5.8         4.0          1.2         0.2      setosa           0\n",
        "15          5.7         4.4          1.5         0.4      setosa           0\n",
        "16          5.4         3.9          1.3         0.4      setosa           0\n",
        "17          5.1         3.5          1.4         0.3      setosa           0\n",
        "18          5.7         3.8          1.7         0.3      setosa           0\n",
        "19          5.1         3.8          1.5         0.3      setosa           0\n",
        "20          5.4         3.4          1.7         0.2      setosa           0\n",
        "21          5.1         3.7          1.5         0.4      setosa           0\n",
        "22          4.6         3.6          1.0         0.2      setosa           0\n",
        "23          5.1         3.3          1.7         0.5      setosa           0\n",
        "24          4.8         3.4          1.9         0.2      setosa           0\n",
        "25          5.0         3.0          1.6         0.2      setosa           0\n",
        "26          5.0         3.4          1.6         0.4      setosa           0\n",
        "27          5.2         3.5          1.5         0.2      setosa           0\n",
        "28          5.2         3.4          1.4         0.2      setosa           0\n",
        "29          4.7         3.2          1.6         0.2      setosa           0\n",
        "30          4.8         3.1          1.6         0.2      setosa           0\n",
        "31          5.4         3.4          1.5         0.4      setosa           0\n",
        "32          5.2         4.1          1.5         0.1      setosa           0\n",
        "33          5.5         4.2          1.4         0.2      setosa           0\n",
        "34          4.9         3.1          1.5         0.1      setosa           0\n",
        "35          5.0         3.2          1.2         0.2      setosa           0\n",
        "36          5.5         3.5          1.3         0.2      setosa           0\n",
        "37          4.9         3.1          1.5         0.1      setosa           0\n",
        "38          4.4         3.0          1.3         0.2      setosa           0\n",
        "39          5.1         3.4          1.5         0.2      setosa           0\n",
        "40          5.0         3.5          1.3         0.3      setosa           0\n",
        "41          4.5         2.3          1.3         0.3      setosa           0\n",
        "42          4.4         3.2          1.3         0.2      setosa           0\n",
        "43          5.0         3.5          1.6         0.6      setosa           0\n",
        "44          5.1         3.8          1.9         0.4      setosa           0\n",
        "45          4.8         3.0          1.4         0.3      setosa           0\n",
        "46          5.1         3.8          1.6         0.2      setosa           0\n",
        "47          4.6         3.2          1.4         0.2      setosa           0\n",
        "48          5.3         3.7          1.5         0.2      setosa           0\n",
        "49          5.0         3.3          1.4         0.2      setosa           0\n",
        "50          7.0         3.2          4.7         1.4  versicolor           1\n",
        "51          6.4         3.2          4.5         1.5  versicolor           1\n",
        "52          6.9         3.1          4.9         1.5  versicolor           1\n",
        "53          5.5         2.3          4.0         1.3  versicolor           1\n",
        "54          6.5         2.8          4.6         1.5  versicolor           1\n",
        "55          5.7         2.8          4.5         1.3  versicolor           1\n",
        "56          6.3         3.3          4.7         1.6  versicolor           1\n",
        "57          4.9         2.4          3.3         1.0  versicolor           1\n",
        "58          6.6         2.9          4.6         1.3  versicolor           1\n",
        "59          5.2         2.7          3.9         1.4  versicolor           1\n",
        "            ...         ...          ...         ...         ...         ...\n",
        "\n",
        "[151 rows x 6 columns]"
       ]
      }
     ],
     "prompt_number": 124
    },
    {
     "cell_type": "code",
     "collapsed": false,
     "input": [
      "# Code to remove the NaN record from the dataframe."
     ],
     "language": "python",
     "metadata": {},
     "outputs": [],
     "prompt_number": 125
    },
    {
     "cell_type": "code",
     "collapsed": false,
     "input": [
      "data = data[np.isfinite(data['SepalLength'])]"
     ],
     "language": "python",
     "metadata": {},
     "outputs": [],
     "prompt_number": 126
    },
    {
     "cell_type": "code",
     "collapsed": false,
     "input": [
      "data.tail()"
     ],
     "language": "python",
     "metadata": {},
     "outputs": [
      {
       "html": [
        "<div style=\"max-height:1000px;max-width:1500px;overflow:auto;\">\n",
        "<table border=\"1\" class=\"dataframe\">\n",
        "  <thead>\n",
        "    <tr style=\"text-align: right;\">\n",
        "      <th></th>\n",
        "      <th>SepalLength</th>\n",
        "      <th>SepalWidth</th>\n",
        "      <th>PetalLenght</th>\n",
        "      <th>PetalWidth</th>\n",
        "      <th>LabelName</th>\n",
        "      <th>New_Target</th>\n",
        "    </tr>\n",
        "  </thead>\n",
        "  <tbody>\n",
        "    <tr>\n",
        "      <th>145</th>\n",
        "      <td> 6.7</td>\n",
        "      <td> 3.0</td>\n",
        "      <td> 5.2</td>\n",
        "      <td> 2.3</td>\n",
        "      <td> virginica</td>\n",
        "      <td> 2</td>\n",
        "    </tr>\n",
        "    <tr>\n",
        "      <th>146</th>\n",
        "      <td> 6.3</td>\n",
        "      <td> 2.5</td>\n",
        "      <td> 5.0</td>\n",
        "      <td> 1.9</td>\n",
        "      <td> virginica</td>\n",
        "      <td> 2</td>\n",
        "    </tr>\n",
        "    <tr>\n",
        "      <th>147</th>\n",
        "      <td> 6.5</td>\n",
        "      <td> 3.0</td>\n",
        "      <td> 5.2</td>\n",
        "      <td> 2.0</td>\n",
        "      <td> virginica</td>\n",
        "      <td> 2</td>\n",
        "    </tr>\n",
        "    <tr>\n",
        "      <th>148</th>\n",
        "      <td> 6.2</td>\n",
        "      <td> 3.4</td>\n",
        "      <td> 5.4</td>\n",
        "      <td> 2.3</td>\n",
        "      <td> virginica</td>\n",
        "      <td> 2</td>\n",
        "    </tr>\n",
        "    <tr>\n",
        "      <th>149</th>\n",
        "      <td> 5.9</td>\n",
        "      <td> 3.0</td>\n",
        "      <td> 5.1</td>\n",
        "      <td> 1.8</td>\n",
        "      <td> virginica</td>\n",
        "      <td> 2</td>\n",
        "    </tr>\n",
        "  </tbody>\n",
        "</table>\n",
        "<p>5 rows \u00d7 6 columns</p>\n",
        "</div>"
       ],
       "metadata": {},
       "output_type": "pyout",
       "prompt_number": 127,
       "text": [
        "     SepalLength  SepalWidth  PetalLenght  PetalWidth  LabelName  New_Target\n",
        "145          6.7         3.0          5.2         2.3  virginica           2\n",
        "146          6.3         2.5          5.0         1.9  virginica           2\n",
        "147          6.5         3.0          5.2         2.0  virginica           2\n",
        "148          6.2         3.4          5.4         2.3  virginica           2\n",
        "149          5.9         3.0          5.1         1.8  virginica           2\n",
        "\n",
        "[5 rows x 6 columns]"
       ]
      }
     ],
     "prompt_number": 127
    },
    {
     "cell_type": "code",
     "collapsed": false,
     "input": [
      "# Now we have the data in the desired format within Pandas dataframe. Now we can call the packages within the sklearn to perform KNN\n",
      "# classification on them."
     ],
     "language": "python",
     "metadata": {},
     "outputs": [],
     "prompt_number": 128
    },
    {
     "cell_type": "code",
     "collapsed": false,
     "input": [
      "# Lets re-assign the variables to the standard variable names to be used within KNN"
     ],
     "language": "python",
     "metadata": {},
     "outputs": [],
     "prompt_number": 129
    },
    {
     "cell_type": "code",
     "collapsed": false,
     "input": [
      "# X = numpy array of just the data set.\n",
      "# y = numpy array of just the New_Target column defined above.\n",
      "\n",
      "X = data[['SepalLength', 'SepalWidth', 'PetalLenght', 'PetalWidth']].values\n",
      "y = data['New_Target'].values"
     ],
     "language": "python",
     "metadata": {},
     "outputs": [],
     "prompt_number": 130
    },
    {
     "cell_type": "code",
     "collapsed": false,
     "input": [
      "# Split the data into the training set and the test set."
     ],
     "language": "python",
     "metadata": {},
     "outputs": [],
     "prompt_number": 131
    },
    {
     "cell_type": "code",
     "collapsed": false,
     "input": [
      "# is there a function to do that in sklearn?\n",
      "from sklearn.cross_validation import train_test_split"
     ],
     "language": "python",
     "metadata": {},
     "outputs": [],
     "prompt_number": 132
    },
    {
     "cell_type": "code",
     "collapsed": false,
     "input": [
      "X_train, X_test, y_train, y_test = train_test_split( X, y, test_size=0.20, random_state=0)"
     ],
     "language": "python",
     "metadata": {},
     "outputs": [],
     "prompt_number": 133
    },
    {
     "cell_type": "code",
     "collapsed": false,
     "input": [
      "# Train KNN classifier defined function on the train data\n",
      "from sklearn.neighbors import KNeighborsClassifier"
     ],
     "language": "python",
     "metadata": {},
     "outputs": [],
     "prompt_number": 134
    },
    {
     "cell_type": "code",
     "collapsed": false,
     "input": [
      "myknn = KNeighborsClassifier(3).fit(X_train,y_train)"
     ],
     "language": "python",
     "metadata": {},
     "outputs": [],
     "prompt_number": 135
    },
    {
     "cell_type": "code",
     "collapsed": false,
     "input": [
      "myknn.score(X_test, y_test)"
     ],
     "language": "python",
     "metadata": {},
     "outputs": [
      {
       "metadata": {},
       "output_type": "pyout",
       "prompt_number": 136,
       "text": [
        "0.96666666666666667"
       ]
      }
     ],
     "prompt_number": 136
    },
    {
     "cell_type": "markdown",
     "metadata": {},
     "source": [
      "# This concludes building the Knn classifier for the training and the test set."
     ]
    },
    {
     "cell_type": "markdown",
     "metadata": {},
     "source": [
      "# Question 2). Implement cross validation for your KNN classifier. Use 5 fold of cross validation."
     ]
    },
    {
     "cell_type": "code",
     "collapsed": false,
     "input": [
      "# Importing the KFold module from the sklearn cross validation module."
     ],
     "language": "python",
     "metadata": {},
     "outputs": [],
     "prompt_number": 137
    },
    {
     "cell_type": "code",
     "collapsed": false,
     "input": [
      "from sklearn.cross_validation import KFold"
     ],
     "language": "python",
     "metadata": {},
     "outputs": [],
     "prompt_number": 138
    },
    {
     "cell_type": "code",
     "collapsed": false,
     "input": [
      "# generic cross validation function\n",
      "def cross_validate(X, y, classifier, k_fold) :\n",
      "\n",
      "    # derive a set of (random) training and testing indices\n",
      "    k_fold_indices = KFold( len(X), n_folds=k_fold,\n",
      "                           indices=True, shuffle=True,\n",
      "                           random_state=0)\n",
      "\n",
      "    k_score_total = 0\n",
      "    # for each training and testing slices run the classifier, and score the results\n",
      "    for train_slice, test_slice in k_fold_indices :\n",
      "\n",
      "        model = classifier(X[[ train_slice  ]],\n",
      "                         y[[ train_slice  ]])\n",
      "\n",
      "        k_score = model.score(X[[ test_slice ]],\n",
      "                              y[[ test_slice ]])\n",
      "\n",
      "        k_score_total += k_score\n",
      "\n",
      "    # return the average accuracy\n",
      "    return k_score_total/k_fold"
     ],
     "language": "python",
     "metadata": {},
     "outputs": [],
     "prompt_number": 139
    },
    {
     "cell_type": "code",
     "collapsed": false,
     "input": [
      "cross_validate(X, y, KNeighborsClassifier(3).fit, 5)"
     ],
     "language": "python",
     "metadata": {},
     "outputs": [
      {
       "metadata": {},
       "output_type": "pyout",
       "prompt_number": 140,
       "text": [
        "0.95333333333333337"
       ]
      }
     ],
     "prompt_number": 140
    },
    {
     "cell_type": "heading",
     "level": 1,
     "metadata": {},
     "source": [
      "Thus we have implemented the cross-validation on our KNN model with k=3, and 5-fold cross validation step to get the score."
     ]
    },
    {
     "cell_type": "markdown",
     "metadata": {},
     "source": [
      "# Question 3). Using your KNN classifier and the cross validation approach determine the optimal value for k."
     ]
    },
    {
     "cell_type": "code",
     "collapsed": false,
     "input": [
      "L = []\n",
      "for i in range(1, 150):\n",
      "    myknn = KNeighborsClassifier(i).fit\n",
      "    print \"For k value of \" + str(i) + \" = \" + \"score is \" + str(cross_validate (X, y, myknn, 5))\n",
      "    #val = [str(cross_validate (X, y, myknn, 5))]\n",
      "    L.append(str(cross_validate (X, y, myknn, 5))) # Add the scores to an array, which we need for plotting later on."
     ],
     "language": "python",
     "metadata": {},
     "outputs": [
      {
       "output_type": "stream",
       "stream": "stdout",
       "text": [
        "For k value of 1 = score is 0.96\n",
        "For k value of 2 = score is 0.94\n",
        "For k value of 3 = score is 0.953333333333\n",
        "For k value of 4 = score is 0.96\n",
        "For k value of 5 = score is 0.96\n",
        "For k value of 6 = score is 0.953333333333"
       ]
      },
      {
       "output_type": "stream",
       "stream": "stdout",
       "text": [
        "\n",
        "For k value of 7 = score is 0.953333333333\n",
        "For k value of 8 = score is 0.96\n",
        "For k value of 9 = score is 0.96\n",
        "For k value of 10 = score is 0.96"
       ]
      },
      {
       "output_type": "stream",
       "stream": "stdout",
       "text": [
        "\n",
        "For k value of 11 = score is 0.966666666667\n",
        "For k value of 12 = score is 0.96\n",
        "For k value of 13 = score is 0.96\n",
        "For k value of 14 = score is 0.953333333333"
       ]
      },
      {
       "output_type": "stream",
       "stream": "stdout",
       "text": [
        "\n",
        "For k value of 15 = score is 0.966666666667\n",
        "For k value of 16 = score is 0.946666666667\n",
        "For k value of 17 = score is 0.946666666667\n",
        "For k value of 18 = score is 0.94"
       ]
      },
      {
       "output_type": "stream",
       "stream": "stdout",
       "text": [
        "\n",
        "For k value of 19 = score is 0.946666666667\n",
        "For k value of 20 = score is 0.946666666667\n",
        "For k value of 21 = score is 0.946666666667\n",
        "For k value of 22 = score is 0.953333333333"
       ]
      },
      {
       "output_type": "stream",
       "stream": "stdout",
       "text": [
        "\n",
        "For k value of 23 = score is 0.946666666667\n",
        "For k value of 24 = score is 0.946666666667\n",
        "For k value of 25 = score is 0.94\n",
        "For k value of 26 = score is 0.946666666667"
       ]
      },
      {
       "output_type": "stream",
       "stream": "stdout",
       "text": [
        "\n",
        "For k value of 27 = score is 0.94\n",
        "For k value of 28 = score is 0.946666666667\n",
        "For k value of 29 = score is 0.946666666667\n",
        "For k value of 30 = score is 0.94"
       ]
      },
      {
       "output_type": "stream",
       "stream": "stdout",
       "text": [
        "\n",
        "For k value of 31 = score is 0.94\n",
        "For k value of 32 = score is 0.926666666667\n",
        "For k value of 33 = score is 0.94\n",
        "For k value of 34 = score is 0.94"
       ]
      },
      {
       "output_type": "stream",
       "stream": "stdout",
       "text": [
        "\n",
        "For k value of 35 = score is 0.933333333333\n",
        "For k value of 36 = score is 0.933333333333\n",
        "For k value of 37 = score is 0.933333333333\n",
        "For k value of 38 = score is 0.933333333333"
       ]
      },
      {
       "output_type": "stream",
       "stream": "stdout",
       "text": [
        "\n",
        "For k value of 39 = score is 0.926666666667\n",
        "For k value of 40 = score is 0.926666666667\n",
        "For k value of 41 = score is 0.926666666667\n",
        "For k value of 42 = score is 0.926666666667"
       ]
      },
      {
       "output_type": "stream",
       "stream": "stdout",
       "text": [
        "\n",
        "For k value of 43 = score is 0.926666666667\n",
        "For k value of 44 = score is 0.926666666667\n",
        "For k value of 45 = score is 0.926666666667\n",
        "For k value of 46 = score is 0.913333333333"
       ]
      },
      {
       "output_type": "stream",
       "stream": "stdout",
       "text": [
        "\n",
        "For k value of 47 = score is 0.913333333333\n",
        "For k value of 48 = score is 0.906666666667\n",
        "For k value of 49 = score is 0.913333333333\n",
        "For k value of 50 = score is 0.906666666667"
       ]
      },
      {
       "output_type": "stream",
       "stream": "stdout",
       "text": [
        "\n",
        "For k value of 51 = score is 0.913333333333\n",
        "For k value of 52 = score is 0.913333333333\n",
        "For k value of 53 = score is 0.913333333333\n",
        "For k value of 54 = score is 0.913333333333"
       ]
      },
      {
       "output_type": "stream",
       "stream": "stdout",
       "text": [
        "\n",
        "For k value of 55 = score is 0.906666666667\n",
        "For k value of 56 = score is 0.9\n",
        "For k value of 57 = score is 0.906666666667"
       ]
      },
      {
       "output_type": "stream",
       "stream": "stdout",
       "text": [
        "\n",
        "For k value of 58 = score is 0.893333333333\n",
        "For k value of 59 = score is 0.913333333333\n",
        "For k value of 60 = score is 0.893333333333"
       ]
      },
      {
       "output_type": "stream",
       "stream": "stdout",
       "text": [
        "\n",
        "For k value of 61 = score is 0.9\n",
        "For k value of 62 = score is 0.886666666667\n",
        "For k value of 63 = score is 0.886666666667"
       ]
      },
      {
       "output_type": "stream",
       "stream": "stdout",
       "text": [
        "\n",
        "For k value of 64 = score is 0.88\n",
        "For k value of 65 = score is 0.88\n",
        "For k value of 66 = score is 0.88"
       ]
      },
      {
       "output_type": "stream",
       "stream": "stdout",
       "text": [
        "\n",
        "For k value of 67 = score is 0.88\n",
        "For k value of 68 = score is 0.873333333333\n",
        "For k value of 69 = score is 0.86"
       ]
      },
      {
       "output_type": "stream",
       "stream": "stdout",
       "text": [
        "\n",
        "For k value of 70 = score is 0.813333333333\n",
        "For k value of 71 = score is 0.793333333333\n",
        "For k value of 72 = score is 0.813333333333"
       ]
      },
      {
       "output_type": "stream",
       "stream": "stdout",
       "text": [
        "\n",
        "For k value of 73 = score is 0.806666666667\n",
        "For k value of 74 = score is 0.72\n",
        "For k value of 75 = score is 0.693333333333"
       ]
      },
      {
       "output_type": "stream",
       "stream": "stdout",
       "text": [
        "\n",
        "For k value of 76 = score is 0.686666666667\n",
        "For k value of 77 = score is 0.68\n",
        "For k value of 78 = score is 0.68"
       ]
      },
      {
       "output_type": "stream",
       "stream": "stdout",
       "text": [
        "\n",
        "For k value of 79 = score is 0.653333333333\n",
        "For k value of 80 = score is 0.553333333333\n",
        "For k value of 81 = score is 0.553333333333"
       ]
      },
      {
       "output_type": "stream",
       "stream": "stdout",
       "text": [
        "\n",
        "For k value of 82 = score is 0.553333333333\n",
        "For k value of 83 = score is 0.553333333333\n",
        "For k value of 84 = score is 0.553333333333"
       ]
      },
      {
       "output_type": "stream",
       "stream": "stdout",
       "text": [
        "\n",
        "For k value of 85 = score is 0.56\n",
        "For k value of 86 = score is 0.56\n",
        "For k value of 87 = score is 0.553333333333"
       ]
      },
      {
       "output_type": "stream",
       "stream": "stdout",
       "text": [
        "\n",
        "For k value of 88 = score is 0.553333333333\n",
        "For k value of 89 = score is 0.553333333333\n",
        "For k value of 90 = score is 0.553333333333"
       ]
      },
      {
       "output_type": "stream",
       "stream": "stdout",
       "text": [
        "\n",
        "For k value of 91 = score is 0.553333333333\n",
        "For k value of 92 = score is 0.553333333333\n",
        "For k value of 93 = score is 0.546666666667"
       ]
      },
      {
       "output_type": "stream",
       "stream": "stdout",
       "text": [
        "\n",
        "For k value of 94 = score is 0.546666666667\n",
        "For k value of 95 = score is 0.546666666667\n",
        "For k value of 96 = score is 0.54"
       ]
      },
      {
       "output_type": "stream",
       "stream": "stdout",
       "text": [
        "\n",
        "For k value of 97 = score is 0.54\n",
        "For k value of 98 = score is 0.54\n",
        "For k value of 99 = score is 0.54"
       ]
      },
      {
       "output_type": "stream",
       "stream": "stdout",
       "text": [
        "\n",
        "For k value of 100 = score is 0.54\n",
        "For k value of 101 = score is 0.54\n",
        "For k value of 102 = score is 0.54"
       ]
      },
      {
       "output_type": "stream",
       "stream": "stdout",
       "text": [
        "\n",
        "For k value of 103 = score is 0.54\n",
        "For k value of 104 = score is 0.54"
       ]
      },
      {
       "output_type": "stream",
       "stream": "stdout",
       "text": [
        "\n",
        "For k value of 105 = score is 0.54\n",
        "For k value of 106 = score is 0.54\n",
        "For k value of 107 = score is 0.526666666667"
       ]
      },
      {
       "output_type": "stream",
       "stream": "stdout",
       "text": [
        "\n",
        "For k value of 108 = score is 0.526666666667\n",
        "For k value of 109 = score is 0.513333333333"
       ]
      },
      {
       "output_type": "stream",
       "stream": "stdout",
       "text": [
        "\n",
        "For k value of 110 = score is 0.506666666667\n",
        "For k value of 111 = score is 0.506666666667\n",
        "For k value of 112 = score is 0.493333333333"
       ]
      },
      {
       "output_type": "stream",
       "stream": "stdout",
       "text": [
        "\n",
        "For k value of 113 = score is 0.493333333333\n",
        "For k value of 114 = score is 0.493333333333\n",
        "For k value of 115 = score is 0.46"
       ]
      },
      {
       "output_type": "stream",
       "stream": "stdout",
       "text": [
        "\n",
        "For k value of 116 = score is 0.373333333333\n",
        "For k value of 117 = score is 0.353333333333\n",
        "For k value of 118 = score is 0.353333333333"
       ]
      },
      {
       "output_type": "stream",
       "stream": "stdout",
       "text": [
        "\n",
        "For k value of 119 = score is 0.353333333333\n",
        "For k value of 120 = score is 0.24\n",
        "For k value of 121 = score is 0.24"
       ]
      },
      {
       "output_type": "stream",
       "stream": "stdout",
       "text": [
        "\n",
        "For k value of 122 = score is 0.24\n",
        "For k value of 123 = score is 0.24\n",
        "For k value of 124 = score is 0.24"
       ]
      },
      {
       "output_type": "stream",
       "stream": "stdout",
       "text": [
        "\n",
        "For k value of 125 = score is 0.24\n",
        "For k value of 126 = score is 0.24\n",
        "For k value of 127 = score is 0.24"
       ]
      },
      {
       "output_type": "stream",
       "stream": "stdout",
       "text": [
        "\n",
        "For k value of 128 = score is 0.24\n",
        "For k value of 129 = score is 0.24\n",
        "For k value of 130 = score is 0.24"
       ]
      },
      {
       "output_type": "stream",
       "stream": "stdout",
       "text": [
        "\n",
        "For k value of 131 = score is 0.24\n",
        "For k value of 132 = score is 0.24\n",
        "For k value of 133 = score is 0.24"
       ]
      },
      {
       "output_type": "stream",
       "stream": "stdout",
       "text": [
        "\n",
        "For k value of 134 = score is 0.24\n",
        "For k value of 135 = score is 0.24\n",
        "For k value of 136 = score is 0.24"
       ]
      },
      {
       "output_type": "stream",
       "stream": "stdout",
       "text": [
        "\n",
        "For k value of 137 = score is 0.24\n",
        "For k value of 138 = score is 0.24\n",
        "For k value of 139 = score is 0.24\n",
        "For k value of 140 = score is 0.24"
       ]
      },
      {
       "output_type": "stream",
       "stream": "stdout",
       "text": [
        "\n",
        "For k value of 141 = score is 0.24\n",
        "For k value of 142 = score is 0.24\n",
        "For k value of 143 = score is 0.24\n",
        "For k value of 144 = score is 0.24"
       ]
      },
      {
       "output_type": "stream",
       "stream": "stdout",
       "text": [
        "\n",
        "For k value of 145 = score is 0.24\n",
        "For k value of 146 = score is 0.24\n",
        "For k value of 147 = score is 0.24\n",
        "For k value of 148 = score is 0.24"
       ]
      },
      {
       "output_type": "stream",
       "stream": "stdout",
       "text": [
        "\n",
        "For k value of 149 = score is 0.24\n"
       ]
      }
     ],
     "prompt_number": 141
    },
    {
     "cell_type": "code",
     "collapsed": false,
     "input": [
      "# From the output above, it seems like the optimal value for K is obtained for K=11 and K=15. Both of them yeilding the highest\n",
      "# score of 0.966666666667."
     ],
     "language": "python",
     "metadata": {},
     "outputs": [],
     "prompt_number": 142
    },
    {
     "cell_type": "code",
     "collapsed": false,
     "input": [
      "print L"
     ],
     "language": "python",
     "metadata": {},
     "outputs": [
      {
       "output_type": "stream",
       "stream": "stdout",
       "text": [
        "['0.96', '0.94', '0.953333333333', '0.96', '0.96', '0.953333333333', '0.953333333333', '0.96', '0.96', '0.96', '0.966666666667', '0.96', '0.96', '0.953333333333', '0.966666666667', '0.946666666667', '0.946666666667', '0.94', '0.946666666667', '0.946666666667', '0.946666666667', '0.953333333333', '0.946666666667', '0.946666666667', '0.94', '0.946666666667', '0.94', '0.946666666667', '0.946666666667', '0.94', '0.94', '0.926666666667', '0.94', '0.94', '0.933333333333', '0.933333333333', '0.933333333333', '0.933333333333', '0.926666666667', '0.926666666667', '0.926666666667', '0.926666666667', '0.926666666667', '0.926666666667', '0.926666666667', '0.913333333333', '0.913333333333', '0.906666666667', '0.913333333333', '0.906666666667', '0.913333333333', '0.913333333333', '0.913333333333', '0.913333333333', '0.906666666667', '0.9', '0.906666666667', '0.893333333333', '0.913333333333', '0.893333333333', '0.9', '0.886666666667', '0.886666666667', '0.88', '0.88', '0.88', '0.88', '0.873333333333', '0.86', '0.813333333333', '0.793333333333', '0.813333333333', '0.806666666667', '0.72', '0.693333333333', '0.686666666667', '0.68', '0.68', '0.653333333333', '0.553333333333', '0.553333333333', '0.553333333333', '0.553333333333', '0.553333333333', '0.56', '0.56', '0.553333333333', '0.553333333333', '0.553333333333', '0.553333333333', '0.553333333333', '0.553333333333', '0.546666666667', '0.546666666667', '0.546666666667', '0.54', '0.54', '0.54', '0.54', '0.54', '0.54', '0.54', '0.54', '0.54', '0.54', '0.54', '0.526666666667', '0.526666666667', '0.513333333333', '0.506666666667', '0.506666666667', '0.493333333333', '0.493333333333', '0.493333333333', '0.46', '0.373333333333', '0.353333333333', '0.353333333333', '0.353333333333', '0.24', '0.24', '0.24', '0.24', '0.24', '0.24', '0.24', '0.24', '0.24', '0.24', '0.24', '0.24', '0.24', '0.24', '0.24', '0.24', '0.24', '0.24', '0.24', '0.24', '0.24', '0.24', '0.24', '0.24', '0.24', '0.24', '0.24', '0.24', '0.24', '0.24']\n"
       ]
      }
     ],
     "prompt_number": 143
    },
    {
     "cell_type": "markdown",
     "metadata": {},
     "source": [
      "# Question4). Using Matplotlib plot the classifier accuracy with variations in K."
     ]
    },
    {
     "cell_type": "code",
     "collapsed": false,
     "input": [
      "from matplotlib import pyplot as plt\n",
      "from matplotlib.ticker import MultipleLocator, FormatStrFormatter"
     ],
     "language": "python",
     "metadata": {},
     "outputs": [],
     "prompt_number": 144
    },
    {
     "cell_type": "code",
     "collapsed": false,
     "input": [
      "X = range(1,150)\n",
      "Y = L\n",
      "\n",
      "pyplot.plot( X, Y, '-' )\n",
      "pyplot.title( 'Plotting the values of Kmeans with their scores' )\n",
      "pyplot.xlabel( 'K-value' )\n",
      "pyplot.ylabel( 'Score' )\n",
      "pyplot.show()"
     ],
     "language": "python",
     "metadata": {},
     "outputs": [
      {
       "metadata": {},
       "output_type": "display_data",
       "png": "[encoded data removed]",
       "text": [
        "<matplotlib.figure.Figure at 0x1098a1890>"
       ]
      }
     ],
     "prompt_number": 145
    },
    {
     "cell_type": "heading",
     "level": 1,
     "metadata": {},
     "source": [
      "Here is our plot obtained by plotting the K-means with their respective scores observed over 5-fold cross validations."
     ]
    },
    {
     "cell_type": "markdown",
     "metadata": {},
     "source": [
      "# Question 5). Does it vary the classifier accuracy by much on varying the number of folds?"
     ]
    },
    {
     "cell_type": "code",
     "collapsed": false,
     "input": [
      "# Let us observe the results by looping through the different cross validation fold values with that for different values of K.\n",
      "# Let's do it for these values of cross validation numbers: [2,3,5,6,10,15]"
     ],
     "language": "python",
     "metadata": {},
     "outputs": [],
     "prompt_number": 146
    },
    {
     "cell_type": "code",
     "collapsed": false,
     "input": [
      "# Split across 2 fold validation.\n",
      "\n",
      "#X = numpy array of just the data set.\n",
      "# y = numpy array of just the New_Target column defined above.\n",
      "\n",
      "X = data[['SepalLength', 'SepalWidth', 'PetalLenght', 'PetalWidth']].values\n",
      "y = data['New_Target'].values\n",
      "\n",
      "X_train, X_test, y_train, y_test = train_test_split( X, y, test_size=0.50, random_state=0)\n",
      "\n",
      "cross_validate(X, y, KNeighborsClassifier(3).fit, 2)\n",
      "\n"
     ],
     "language": "python",
     "metadata": {},
     "outputs": [
      {
       "metadata": {},
       "output_type": "pyout",
       "prompt_number": 147,
       "text": [
        "0.95999999999999996"
       ]
      }
     ],
     "prompt_number": 147
    },
    {
     "cell_type": "code",
     "collapsed": false,
     "input": [
      "A = []\n",
      "for i in range(1, 150):\n",
      "    myknn = KNeighborsClassifier(i).fit\n",
      "    print \"For k value of \" + str(i) + \" = \" + \"score is \" + str(cross_validate (X, y, myknn, 2))\n",
      "    A.append(str(cross_validate (X, y, myknn, 2)))\n",
      "\n"
     ],
     "language": "python",
     "metadata": {},
     "outputs": [
      {
       "output_type": "stream",
       "stream": "stdout",
       "text": [
        "For k value of 1 = score is 0.933333333333\n",
        "For k value of 2 = score is 0.94\n",
        "For k value of 3 = score is 0.96\n",
        "For k value of 4 = score is 0.953333333333\n",
        "For k value of 5 = score is 0.966666666667\n",
        "For k value of 6 = score is 0.953333333333\n",
        "For k value of 7 = score is 0.96\n",
        "For k value of 8 = score is 0.96\n",
        "For k value of 9 = score is 0.966666666667\n",
        "For k value of 10 = score is 0.966666666667\n",
        "For k value of 11 = score is 0.953333333333\n",
        "For k value of 12 = score is 0.953333333333"
       ]
      },
      {
       "output_type": "stream",
       "stream": "stdout",
       "text": [
        "\n",
        "For k value of 13 = score is 0.946666666667\n",
        "For k value of 14 = score is 0.953333333333\n",
        "For k value of 15 = score is 0.946666666667\n",
        "For k value of 16 = score is 0.94\n",
        "For k value of 17 = score is 0.94\n",
        "For k value of 18 = score is 0.946666666667\n",
        "For k value of 19 = score is 0.933333333333\n",
        "For k value of 20 = score is 0.933333333333\n",
        "For k value of 21 = score is 0.946666666667\n",
        "For k value of 22 = score is 0.94"
       ]
      },
      {
       "output_type": "stream",
       "stream": "stdout",
       "text": [
        "\n",
        "For k value of 23 = score is 0.94\n",
        "For k value of 24 = score is 0.946666666667\n",
        "For k value of 25 = score is 0.94\n",
        "For k value of 26 = score is 0.946666666667\n",
        "For k value of 27 = score is 0.946666666667\n",
        "For k value of 28 = score is 0.946666666667\n",
        "For k value of 29 = score is 0.926666666667\n",
        "For k value of 30 = score is 0.92\n",
        "For k value of 31 = score is 0.92"
       ]
      },
      {
       "output_type": "stream",
       "stream": "stdout",
       "text": [
        "\n",
        "For k value of 32 = score is 0.9\n",
        "For k value of 33 = score is 0.913333333333\n",
        "For k value of 34 = score is 0.906666666667\n",
        "For k value of 35 = score is 0.913333333333\n",
        "For k value of 36 = score is 0.906666666667\n",
        "For k value of 37 = score is 0.886666666667\n",
        "For k value of 38 = score is 0.9\n",
        "For k value of 39 = score is 0.9"
       ]
      },
      {
       "output_type": "stream",
       "stream": "stdout",
       "text": [
        "\n",
        "For k value of 40 = score is 0.893333333333\n",
        "For k value of 41 = score is 0.853333333333\n",
        "For k value of 42 = score is 0.826666666667\n",
        "For k value of 43 = score is 0.786666666667\n",
        "For k value of 44 = score is 0.633333333333\n",
        "For k value of 45 = score is 0.62\n",
        "For k value of 46 = score is 0.553333333333"
       ]
      },
      {
       "output_type": "stream",
       "stream": "stdout",
       "text": [
        "\n",
        "For k value of 47 = score is 0.566666666667\n",
        "For k value of 48 = score is 0.48\n",
        "For k value of 49 = score is 0.48\n",
        "For k value of 50 = score is 0.48\n",
        "For k value of 51 = score is 0.48\n",
        "For k value of 52 = score is 0.48\n",
        "For k value of 53 = score is 0.48"
       ]
      },
      {
       "output_type": "stream",
       "stream": "stdout",
       "text": [
        "\n",
        "For k value of 54 = score is 0.48\n",
        "For k value of 55 = score is 0.473333333333\n",
        "For k value of 56 = score is 0.473333333333\n",
        "For k value of 57 = score is 0.466666666667\n",
        "For k value of 58 = score is 0.466666666667"
       ]
      },
      {
       "output_type": "stream",
       "stream": "stdout",
       "text": [
        "\n",
        "For k value of 59 = score is 0.446666666667\n",
        "For k value of 60 = score is 0.433333333333\n",
        "For k value of 61 = score is 0.433333333333\n",
        "For k value of 62 = score is 0.433333333333\n",
        "For k value of 63 = score is 0.433333333333\n",
        "For k value of 64 = score is 0.433333333333"
       ]
      },
      {
       "output_type": "stream",
       "stream": "stdout",
       "text": [
        "\n",
        "For k value of 65 = score is 0.433333333333\n",
        "For k value of 66 = score is 0.426666666667\n",
        "For k value of 67 = score is 0.426666666667\n",
        "For k value of 68 = score is 0.426666666667\n",
        "For k value of 69 = score is 0.426666666667\n",
        "For k value of 70 = score is 0.426666666667"
       ]
      },
      {
       "output_type": "stream",
       "stream": "stdout",
       "text": [
        "\n",
        "For k value of 71 = score is 0.426666666667\n",
        "For k value of 72 = score is 0.273333333333\n",
        "For k value of 73 = score is 0.273333333333\n",
        "For k value of 74 = score is 0.273333333333\n",
        "For k value of 75 = score is 0.273333333333\n",
        "For k value of 76 = score is 0.273333333333"
       ]
      },
      {
       "output_type": "stream",
       "stream": "stdout",
       "text": [
        "\n",
        "For k value of 77 = score is 0.273333333333\n",
        "For k value of 78 = score is 0.273333333333\n",
        "For k value of 79 = score is 0.273333333333\n",
        "For k value of 80 = score is 0.273333333333\n",
        "For k value of 81 = score is 0.273333333333\n",
        "For k value of 82 = score is 0.273333333333\n",
        "For k value of 83 = score is 0.273333333333"
       ]
      },
      {
       "output_type": "stream",
       "stream": "stdout",
       "text": [
        "\n",
        "For k value of 84 = score is 0.273333333333\n",
        "For k value of 85 = score is 0.273333333333\n",
        "For k value of 86 = score is 0.273333333333\n",
        "For k value of 87 = score is 0.273333333333\n",
        "For k value of 88 = score is 0.273333333333\n",
        "For k value of 89 = score is 0.273333333333\n",
        "For k value of 90 = score is 0.273333333333"
       ]
      },
      {
       "output_type": "stream",
       "stream": "stdout",
       "text": [
        "\n",
        "For k value of 91 = score is 0.273333333333\n",
        "For k value of 92 = score is 0.273333333333\n",
        "For k value of 93 = score is 0.273333333333\n",
        "For k value of 94 = score is 0.273333333333\n",
        "For k value of 95 = score is 0.273333333333\n",
        "For k value of 96 = score is 0.273333333333"
       ]
      },
      {
       "output_type": "stream",
       "stream": "stdout",
       "text": [
        "\n",
        "For k value of 97 = score is 0.273333333333\n",
        "For k value of 98 = score is 0.273333333333\n",
        "For k value of 99 = score is 0.273333333333\n",
        "For k value of 100 = score is 0.273333333333\n",
        "For k value of 101 = score is 0.273333333333\n",
        "For k value of 102 = score is 0.273333333333"
       ]
      },
      {
       "output_type": "stream",
       "stream": "stdout",
       "text": [
        "\n",
        "For k value of 103 = score is 0.273333333333\n",
        "For k value of 104 = score is 0.273333333333\n",
        "For k value of 105 = score is 0.273333333333\n",
        "For k value of 106 = score is 0.273333333333\n",
        "For k value of 107 = score is 0.273333333333\n",
        "For k value of 108 = score is 0.273333333333\n",
        "For k value of 109 = score is 0.273333333333"
       ]
      },
      {
       "output_type": "stream",
       "stream": "stdout",
       "text": [
        "\n",
        "For k value of 110 = score is 0.273333333333\n",
        "For k value of 111 = score is 0.273333333333\n",
        "For k value of 112 = score is 0.273333333333\n",
        "For k value of 113 = score is 0.273333333333\n",
        "For k value of 114 = score is 0.273333333333\n",
        "For k value of 115 = score is 0.273333333333\n",
        "For k value of 116 = score is 0.273333333333"
       ]
      },
      {
       "output_type": "stream",
       "stream": "stdout",
       "text": [
        "\n",
        "For k value of 117 = score is 0.273333333333\n",
        "For k value of 118 = score is 0.273333333333\n",
        "For k value of 119 = score is 0.273333333333\n",
        "For k value of 120 = score is 0.273333333333\n",
        "For k value of 121 = score is 0.273333333333\n",
        "For k value of 122 = score is 0.273333333333\n",
        "For k value of 123 = score is 0.273333333333"
       ]
      },
      {
       "output_type": "stream",
       "stream": "stdout",
       "text": [
        "\n",
        "For k value of 124 = score is 0.273333333333\n",
        "For k value of 125 = score is 0.273333333333\n",
        "For k value of 126 = score is 0.273333333333\n",
        "For k value of 127 = score is 0.273333333333\n",
        "For k value of 128 = score is 0.273333333333\n",
        "For k value of 129 = score is 0.273333333333\n",
        "For k value of 130 = score is 0.273333333333"
       ]
      },
      {
       "output_type": "stream",
       "stream": "stdout",
       "text": [
        "\n",
        "For k value of 131 = score is 0.273333333333\n",
        "For k value of 132 = score is 0.273333333333\n",
        "For k value of 133 = score is 0.273333333333\n",
        "For k value of 134 = score is 0.273333333333\n",
        "For k value of 135 = score is 0.273333333333\n",
        "For k value of 136 = score is 0.273333333333"
       ]
      },
      {
       "output_type": "stream",
       "stream": "stdout",
       "text": [
        "\n",
        "For k value of 137 = score is 0.273333333333\n",
        "For k value of 138 = score is 0.273333333333\n",
        "For k value of 139 = score is 0.273333333333\n",
        "For k value of 140 = score is 0.273333333333\n",
        "For k value of 141 = score is 0.273333333333\n",
        "For k value of 142 = score is 0.273333333333"
       ]
      },
      {
       "output_type": "stream",
       "stream": "stdout",
       "text": [
        "\n",
        "For k value of 143 = score is 0.273333333333\n",
        "For k value of 144 = score is 0.273333333333\n",
        "For k value of 145 = score is 0.273333333333\n",
        "For k value of 146 = score is 0.273333333333\n",
        "For k value of 147 = score is 0.273333333333\n",
        "For k value of 148 = score is 0.273333333333\n",
        "For k value of 149 = score is 0.273333333333"
       ]
      },
      {
       "output_type": "stream",
       "stream": "stdout",
       "text": [
        "\n"
       ]
      }
     ],
     "prompt_number": 148
    },
    {
     "cell_type": "code",
     "collapsed": false,
     "input": [
      "X = range(1,150)\n",
      "Y = A\n",
      "\n",
      "pyplot.plot( X, Y, '-' )\n",
      "pyplot.title( 'Plotting the values of Kmeans with their scores with cross validation as 2' )\n",
      "pyplot.xlabel( 'K-value' )\n",
      "pyplot.ylabel( 'Score' )\n",
      "pyplot.show()"
     ],
     "language": "python",
     "metadata": {},
     "outputs": [
      {
       "metadata": {},
       "output_type": "display_data",
       "png": "[encoded data removed]",
       "text": [
        "<matplotlib.figure.Figure at 0x109442a50>"
       ]
      }
     ],
     "prompt_number": 149
    },
    {
     "cell_type": "code",
     "collapsed": false,
     "input": [
      "# Split it across 3 fold as cross validation.\n",
      "\n",
      "# X = numpy array of just the data set.\n",
      "# y = numpy array of just the New_Target column defined above.\n",
      "\n",
      "X = data[['SepalLength', 'SepalWidth', 'PetalLenght', 'PetalWidth']].values\n",
      "y = data['New_Target'].values\n",
      "\n",
      "X_train, X_test, y_train, y_test = train_test_split( X, y, test_size=0.33, random_state=0)\n",
      "\n",
      "cross_validate(X, y, KNeighborsClassifier(3).fit, 3)"
     ],
     "language": "python",
     "metadata": {},
     "outputs": [
      {
       "metadata": {},
       "output_type": "pyout",
       "prompt_number": 150,
       "text": [
        "0.95333333333333325"
       ]
      }
     ],
     "prompt_number": 150
    },
    {
     "cell_type": "code",
     "collapsed": false,
     "input": [
      "B = []\n",
      "for i in range(1, 150):\n",
      "    myknn = KNeighborsClassifier(i).fit\n",
      "    print \"For k value of \" + str(i) + \" = \" + \"score is \" + str(cross_validate (X, y, myknn, 3))\n",
      "    B.append(str(cross_validate (X, y, myknn, 3)))\n"
     ],
     "language": "python",
     "metadata": {},
     "outputs": [
      {
       "output_type": "stream",
       "stream": "stdout",
       "text": [
        "For k value of 1 = score is 0.96\n",
        "For k value of 2 = score is 0.946666666667\n",
        "For k value of 3 = score is 0.953333333333\n",
        "For k value of 4 = score is 0.953333333333\n",
        "For k value of 5 = score is 0.966666666667\n",
        "For k value of 6 = score is 0.966666666667\n",
        "For k value of 7 = score is 0.96\n",
        "For k value of 8 = score is 0.96\n",
        "For k value of 9 = score is 0.953333333333"
       ]
      },
      {
       "output_type": "stream",
       "stream": "stdout",
       "text": [
        "\n",
        "For k value of 10 = score is 0.96\n",
        "For k value of 11 = score is 0.966666666667\n",
        "For k value of 12 = score is 0.96\n",
        "For k value of 13 = score is 0.96\n",
        "For k value of 14 = score is 0.953333333333\n",
        "For k value of 15 = score is 0.953333333333"
       ]
      },
      {
       "output_type": "stream",
       "stream": "stdout",
       "text": [
        "\n",
        "For k value of 16 = score is 0.953333333333\n",
        "For k value of 17 = score is 0.96\n",
        "For k value of 18 = score is 0.953333333333\n",
        "For k value of 19 = score is 0.96\n",
        "For k value of 20 = score is 0.953333333333\n",
        "For k value of 21 = score is 0.953333333333\n",
        "For k value of 22 = score is 0.94"
       ]
      },
      {
       "output_type": "stream",
       "stream": "stdout",
       "text": [
        "\n",
        "For k value of 23 = score is 0.96\n",
        "For k value of 24 = score is 0.946666666667\n",
        "For k value of 25 = score is 0.953333333333\n",
        "For k value of 26 = score is 0.933333333333\n",
        "For k value of 27 = score is 0.926666666667\n",
        "For k value of 28 = score is 0.926666666667\n",
        "For k value of 29 = score is 0.94"
       ]
      },
      {
       "output_type": "stream",
       "stream": "stdout",
       "text": [
        "\n",
        "For k value of 30 = score is 0.926666666667\n",
        "For k value of 31 = score is 0.92\n",
        "For k value of 32 = score is 0.92\n",
        "For k value of 33 = score is 0.926666666667\n",
        "For k value of 34 = score is 0.926666666667\n",
        "For k value of 35 = score is 0.92"
       ]
      },
      {
       "output_type": "stream",
       "stream": "stdout",
       "text": [
        "\n",
        "For k value of 36 = score is 0.913333333333\n",
        "For k value of 37 = score is 0.913333333333\n",
        "For k value of 38 = score is 0.913333333333\n",
        "For k value of 39 = score is 0.906666666667\n",
        "For k value of 40 = score is 0.906666666667\n",
        "For k value of 41 = score is 0.913333333333"
       ]
      },
      {
       "output_type": "stream",
       "stream": "stdout",
       "text": [
        "\n",
        "For k value of 42 = score is 0.906666666667\n",
        "For k value of 43 = score is 0.9\n",
        "For k value of 44 = score is 0.906666666667\n",
        "For k value of 45 = score is 0.893333333333\n",
        "For k value of 46 = score is 0.9"
       ]
      },
      {
       "output_type": "stream",
       "stream": "stdout",
       "text": [
        "\n",
        "For k value of 47 = score is 0.906666666667\n",
        "For k value of 48 = score is 0.873333333333\n",
        "For k value of 49 = score is 0.873333333333\n",
        "For k value of 50 = score is 0.866666666667\n",
        "For k value of 51 = score is 0.866666666667\n",
        "For k value of 52 = score is 0.873333333333"
       ]
      },
      {
       "output_type": "stream",
       "stream": "stdout",
       "text": [
        "\n",
        "For k value of 53 = score is 0.866666666667\n",
        "For k value of 54 = score is 0.873333333333\n",
        "For k value of 55 = score is 0.88\n",
        "For k value of 56 = score is 0.88\n",
        "For k value of 57 = score is 0.873333333333"
       ]
      },
      {
       "output_type": "stream",
       "stream": "stdout",
       "text": [
        "\n",
        "For k value of 58 = score is 0.793333333333\n",
        "For k value of 59 = score is 0.786666666667\n",
        "For k value of 60 = score is 0.8\n",
        "For k value of 61 = score is 0.773333333333\n",
        "For k value of 62 = score is 0.773333333333"
       ]
      },
      {
       "output_type": "stream",
       "stream": "stdout",
       "text": [
        "\n",
        "For k value of 63 = score is 0.76\n",
        "For k value of 64 = score is 0.753333333333\n",
        "For k value of 65 = score is 0.746666666667\n",
        "For k value of 66 = score is 0.74\n",
        "For k value of 67 = score is 0.7"
       ]
      },
      {
       "output_type": "stream",
       "stream": "stdout",
       "text": [
        "\n",
        "For k value of 68 = score is 0.68\n",
        "For k value of 69 = score is 0.613333333333\n",
        "For k value of 70 = score is 0.6\n",
        "For k value of 71 = score is 0.586666666667\n",
        "For k value of 72 = score is 0.586666666667"
       ]
      },
      {
       "output_type": "stream",
       "stream": "stdout",
       "text": [
        "\n",
        "For k value of 73 = score is 0.566666666667\n",
        "For k value of 74 = score is 0.566666666667\n",
        "For k value of 75 = score is 0.553333333333\n",
        "For k value of 76 = score is 0.54\n",
        "For k value of 77 = score is 0.46"
       ]
      },
      {
       "output_type": "stream",
       "stream": "stdout",
       "text": [
        "\n",
        "For k value of 78 = score is 0.46\n",
        "For k value of 79 = score is 0.46\n",
        "For k value of 80 = score is 0.46\n",
        "For k value of 81 = score is 0.453333333333\n",
        "For k value of 82 = score is 0.446666666667"
       ]
      },
      {
       "output_type": "stream",
       "stream": "stdout",
       "text": [
        "\n",
        "For k value of 83 = score is 0.446666666667\n",
        "For k value of 84 = score is 0.446666666667\n",
        "For k value of 85 = score is 0.44\n",
        "For k value of 86 = score is 0.44\n",
        "For k value of 87 = score is 0.44"
       ]
      },
      {
       "output_type": "stream",
       "stream": "stdout",
       "text": [
        "\n",
        "For k value of 88 = score is 0.44\n",
        "For k value of 89 = score is 0.426666666667\n",
        "For k value of 90 = score is 0.426666666667\n",
        "For k value of 91 = score is 0.426666666667\n",
        "For k value of 92 = score is 0.42"
       ]
      },
      {
       "output_type": "stream",
       "stream": "stdout",
       "text": [
        "\n",
        "For k value of 93 = score is 0.413333333333\n",
        "For k value of 94 = score is 0.413333333333\n",
        "For k value of 95 = score is 0.413333333333\n",
        "For k value of 96 = score is 0.413333333333\n",
        "For k value of 97 = score is 0.413333333333"
       ]
      },
      {
       "output_type": "stream",
       "stream": "stdout",
       "text": [
        "\n",
        "For k value of 98 = score is 0.393333333333\n",
        "For k value of 99 = score is 0.393333333333\n",
        "For k value of 100 = score is 0.286666666667\n",
        "For k value of 101 = score is 0.286666666667"
       ]
      },
      {
       "output_type": "stream",
       "stream": "stdout",
       "text": [
        "\n",
        "For k value of 102 = score is 0.286666666667\n",
        "For k value of 103 = score is 0.286666666667\n",
        "For k value of 104 = score is 0.286666666667\n",
        "For k value of 105 = score is 0.286666666667"
       ]
      },
      {
       "output_type": "stream",
       "stream": "stdout",
       "text": [
        "\n",
        "For k value of 106 = score is 0.286666666667\n",
        "For k value of 107 = score is 0.286666666667\n",
        "For k value of 108 = score is 0.286666666667\n",
        "For k value of 109 = score is 0.286666666667"
       ]
      },
      {
       "output_type": "stream",
       "stream": "stdout",
       "text": [
        "\n",
        "For k value of 110 = score is 0.286666666667\n",
        "For k value of 111 = score is 0.286666666667\n",
        "For k value of 112 = score is 0.286666666667\n",
        "For k value of 113 = score is 0.286666666667\n",
        "For k value of 114 = score is 0.286666666667"
       ]
      },
      {
       "output_type": "stream",
       "stream": "stdout",
       "text": [
        "\n",
        "For k value of 115 = score is 0.286666666667\n",
        "For k value of 116 = score is 0.286666666667\n",
        "For k value of 117 = score is 0.286666666667\n",
        "For k value of 118 = score is 0.286666666667"
       ]
      },
      {
       "output_type": "stream",
       "stream": "stdout",
       "text": [
        "\n",
        "For k value of 119 = score is 0.286666666667\n",
        "For k value of 120 = score is 0.286666666667\n",
        "For k value of 121 = score is 0.286666666667\n",
        "For k value of 122 = score is 0.286666666667\n",
        "For k value of 123 = score is 0.286666666667"
       ]
      },
      {
       "output_type": "stream",
       "stream": "stdout",
       "text": [
        "\n",
        "For k value of 124 = score is 0.286666666667\n",
        "For k value of 125 = score is 0.286666666667\n",
        "For k value of 126 = score is 0.286666666667\n",
        "For k value of 127 = score is 0.286666666667"
       ]
      },
      {
       "output_type": "stream",
       "stream": "stdout",
       "text": [
        "\n",
        "For k value of 128 = score is 0.286666666667\n",
        "For k value of 129 = score is 0.286666666667\n",
        "For k value of 130 = score is 0.286666666667\n",
        "For k value of 131 = score is 0.286666666667\n",
        "For k value of 132 = score is 0.286666666667"
       ]
      },
      {
       "output_type": "stream",
       "stream": "stdout",
       "text": [
        "\n",
        "For k value of 133 = score is 0.286666666667\n",
        "For k value of 134 = score is 0.286666666667\n",
        "For k value of 135 = score is 0.286666666667\n",
        "For k value of 136 = score is 0.286666666667\n",
        "For k value of 137 = score is 0.286666666667"
       ]
      },
      {
       "output_type": "stream",
       "stream": "stdout",
       "text": [
        "\n",
        "For k value of 138 = score is 0.286666666667\n",
        "For k value of 139 = score is 0.286666666667\n",
        "For k value of 140 = score is 0.286666666667\n",
        "For k value of 141 = score is 0.286666666667\n",
        "For k value of 142 = score is 0.286666666667"
       ]
      },
      {
       "output_type": "stream",
       "stream": "stdout",
       "text": [
        "\n",
        "For k value of 143 = score is 0.286666666667\n",
        "For k value of 144 = score is 0.286666666667\n",
        "For k value of 145 = score is 0.286666666667\n",
        "For k value of 146 = score is 0.286666666667\n",
        "For k value of 147 = score is 0.286666666667"
       ]
      },
      {
       "output_type": "stream",
       "stream": "stdout",
       "text": [
        "\n",
        "For k value of 148 = score is 0.286666666667\n",
        "For k value of 149 = score is 0.286666666667\n"
       ]
      }
     ],
     "prompt_number": 151
    },
    {
     "cell_type": "code",
     "collapsed": false,
     "input": [
      "X = range(1,150)\n",
      "Y = B\n",
      "\n",
      "pyplot.plot( X, Y, '-' )\n",
      "pyplot.title( 'Plotting the values of Kmeans with their scores with cross validation as 3' )\n",
      "pyplot.xlabel( 'K-value' )\n",
      "pyplot.ylabel( 'Score' )\n",
      "pyplot.show()"
     ],
     "language": "python",
     "metadata": {},
     "outputs": [
      {
       "metadata": {},
       "output_type": "display_data",
       "png": "[encoded data removed]",
       "text": [
        "<matplotlib.figure.Figure at 0x10992aa50>"
       ]
      }
     ],
     "prompt_number": 152
    },
    {
     "cell_type": "code",
     "collapsed": false,
     "input": [
      "# Split across 6 cross fold validations.\n",
      "\n",
      "# X = numpy array of just the data set.\n",
      "# y = numpy array of just the New_Target column defined above.\n",
      "\n",
      "X = data[['SepalLength', 'SepalWidth', 'PetalLenght', 'PetalWidth']].values\n",
      "y = data['New_Target'].values\n",
      "\n",
      "X_train, X_test, y_train, y_test = train_test_split( X, y, test_size=0.166, random_state=0)\n",
      "\n",
      "cross_validate(X, y, KNeighborsClassifier(3).fit, 6)"
     ],
     "language": "python",
     "metadata": {},
     "outputs": [
      {
       "metadata": {},
       "output_type": "pyout",
       "prompt_number": 153,
       "text": [
        "0.95333333333333325"
       ]
      }
     ],
     "prompt_number": 153
    },
    {
     "cell_type": "code",
     "collapsed": false,
     "input": [
      "C = []\n",
      "for i in range(1, 150):\n",
      "    myknn = KNeighborsClassifier(i).fit\n",
      "    print \"For k value of \" + str(i) + \" = \" + \"score is \" + str(cross_validate (X, y, myknn, 6))\n",
      "    C.append(str(cross_validate (X, y, myknn, 6)))\n"
     ],
     "language": "python",
     "metadata": {},
     "outputs": [
      {
       "output_type": "stream",
       "stream": "stdout",
       "text": [
        "For k value of 1 = score is 0.96\n",
        "For k value of 2 = score is 0.94\n",
        "For k value of 3 = score is 0.953333333333\n",
        "For k value of 4 = score is 0.946666666667\n",
        "For k value of 5 = score is 0.966666666667\n",
        "For k value of 6 = score is 0.96"
       ]
      },
      {
       "output_type": "stream",
       "stream": "stdout",
       "text": [
        "\n",
        "For k value of 7 = score is 0.953333333333\n",
        "For k value of 8 = score is 0.96\n",
        "For k value of 9 = score is 0.953333333333\n",
        "For k value of 10 = score is 0.96"
       ]
      },
      {
       "output_type": "stream",
       "stream": "stdout",
       "text": [
        "\n",
        "For k value of 11 = score is 0.966666666667\n",
        "For k value of 12 = score is 0.96\n",
        "For k value of 13 = score is 0.96\n",
        "For k value of 14 = score is 0.96"
       ]
      },
      {
       "output_type": "stream",
       "stream": "stdout",
       "text": [
        "\n",
        "For k value of 15 = score is 0.973333333333\n",
        "For k value of 16 = score is 0.96\n",
        "For k value of 17 = score is 0.953333333333\n",
        "For k value of 18 = score is 0.953333333333"
       ]
      },
      {
       "output_type": "stream",
       "stream": "stdout",
       "text": [
        "\n",
        "For k value of 19 = score is 0.966666666667\n",
        "For k value of 20 = score is 0.966666666667\n",
        "For k value of 21 = score is 0.966666666667\n",
        "For k value of 22 = score is 0.96"
       ]
      },
      {
       "output_type": "stream",
       "stream": "stdout",
       "text": [
        "\n",
        "For k value of 23 = score is 0.96\n",
        "For k value of 24 = score is 0.96\n",
        "For k value of 25 = score is 0.953333333333\n",
        "For k value of 26 = score is 0.94"
       ]
      },
      {
       "output_type": "stream",
       "stream": "stdout",
       "text": [
        "\n",
        "For k value of 27 = score is 0.953333333333\n",
        "For k value of 28 = score is 0.946666666667\n",
        "For k value of 29 = score is 0.953333333333\n",
        "For k value of 30 = score is 0.946666666667"
       ]
      },
      {
       "output_type": "stream",
       "stream": "stdout",
       "text": [
        "\n",
        "For k value of 31 = score is 0.946666666667\n",
        "For k value of 32 = score is 0.933333333333\n",
        "For k value of 33 = score is 0.926666666667\n",
        "For k value of 34 = score is 0.953333333333"
       ]
      },
      {
       "output_type": "stream",
       "stream": "stdout",
       "text": [
        "\n",
        "For k value of 35 = score is 0.953333333333\n",
        "For k value of 36 = score is 0.946666666667\n",
        "For k value of 37 = score is 0.94\n",
        "For k value of 38 = score is 0.94"
       ]
      },
      {
       "output_type": "stream",
       "stream": "stdout",
       "text": [
        "\n",
        "For k value of 39 = score is 0.94\n",
        "For k value of 40 = score is 0.94\n",
        "For k value of 41 = score is 0.933333333333\n",
        "For k value of 42 = score is 0.926666666667"
       ]
      },
      {
       "output_type": "stream",
       "stream": "stdout",
       "text": [
        "\n",
        "For k value of 43 = score is 0.933333333333\n",
        "For k value of 44 = score is 0.926666666667\n",
        "For k value of 45 = score is 0.926666666667\n",
        "For k value of 46 = score is 0.913333333333"
       ]
      },
      {
       "output_type": "stream",
       "stream": "stdout",
       "text": [
        "\n",
        "For k value of 47 = score is 0.913333333333\n",
        "For k value of 48 = score is 0.9\n",
        "For k value of 49 = score is 0.906666666667"
       ]
      },
      {
       "output_type": "stream",
       "stream": "stdout",
       "text": [
        "\n",
        "For k value of 50 = score is 0.9\n",
        "For k value of 51 = score is 0.913333333333\n",
        "For k value of 52 = score is 0.906666666667\n",
        "For k value of 53 = score is 0.92"
       ]
      },
      {
       "output_type": "stream",
       "stream": "stdout",
       "text": [
        "\n",
        "For k value of 54 = score is 0.9\n",
        "For k value of 55 = score is 0.906666666667\n",
        "For k value of 56 = score is 0.9\n",
        "For k value of 57 = score is 0.906666666667"
       ]
      },
      {
       "output_type": "stream",
       "stream": "stdout",
       "text": [
        "\n",
        "For k value of 58 = score is 0.886666666667\n",
        "For k value of 59 = score is 0.906666666667\n",
        "For k value of 60 = score is 0.9"
       ]
      },
      {
       "output_type": "stream",
       "stream": "stdout",
       "text": [
        "\n",
        "For k value of 61 = score is 0.913333333333\n",
        "For k value of 62 = score is 0.9\n",
        "For k value of 63 = score is 0.906666666667"
       ]
      },
      {
       "output_type": "stream",
       "stream": "stdout",
       "text": [
        "\n",
        "For k value of 64 = score is 0.886666666667\n",
        "For k value of 65 = score is 0.9\n",
        "For k value of 66 = score is 0.893333333333"
       ]
      },
      {
       "output_type": "stream",
       "stream": "stdout",
       "text": [
        "\n",
        "For k value of 67 = score is 0.9\n",
        "For k value of 68 = score is 0.886666666667\n",
        "For k value of 69 = score is 0.886666666667"
       ]
      },
      {
       "output_type": "stream",
       "stream": "stdout",
       "text": [
        "\n",
        "For k value of 70 = score is 0.873333333333\n",
        "For k value of 71 = score is 0.866666666667\n",
        "For k value of 72 = score is 0.866666666667"
       ]
      },
      {
       "output_type": "stream",
       "stream": "stdout",
       "text": [
        "\n",
        "For k value of 73 = score is 0.873333333333\n",
        "For k value of 74 = score is 0.84\n",
        "For k value of 75 = score is 0.846666666667"
       ]
      },
      {
       "output_type": "stream",
       "stream": "stdout",
       "text": [
        "\n",
        "For k value of 76 = score is 0.813333333333\n",
        "For k value of 77 = score is 0.813333333333\n",
        "For k value of 78 = score is 0.786666666667"
       ]
      },
      {
       "output_type": "stream",
       "stream": "stdout",
       "text": [
        "\n",
        "For k value of 79 = score is 0.726666666667\n",
        "For k value of 80 = score is 0.72\n",
        "For k value of 81 = score is 0.693333333333"
       ]
      },
      {
       "output_type": "stream",
       "stream": "stdout",
       "text": [
        "\n",
        "For k value of 82 = score is 0.646666666667\n",
        "For k value of 83 = score is 0.606666666667\n",
        "For k value of 84 = score is 0.606666666667"
       ]
      },
      {
       "output_type": "stream",
       "stream": "stdout",
       "text": [
        "\n",
        "For k value of 85 = score is 0.593333333333\n",
        "For k value of 86 = score is 0.54\n",
        "For k value of 87 = score is 0.54"
       ]
      },
      {
       "output_type": "stream",
       "stream": "stdout",
       "text": [
        "\n",
        "For k value of 88 = score is 0.54\n",
        "For k value of 89 = score is 0.54\n",
        "For k value of 90 = score is 0.54"
       ]
      },
      {
       "output_type": "stream",
       "stream": "stdout",
       "text": [
        "\n",
        "For k value of 91 = score is 0.54\n",
        "For k value of 92 = score is 0.533333333333\n",
        "For k value of 93 = score is 0.533333333333"
       ]
      },
      {
       "output_type": "stream",
       "stream": "stdout",
       "text": [
        "\n",
        "For k value of 94 = score is 0.533333333333\n",
        "For k value of 95 = score is 0.533333333333\n",
        "For k value of 96 = score is 0.533333333333"
       ]
      },
      {
       "output_type": "stream",
       "stream": "stdout",
       "text": [
        "\n",
        "For k value of 97 = score is 0.533333333333\n",
        "For k value of 98 = score is 0.533333333333\n",
        "For k value of 99 = score is 0.533333333333"
       ]
      },
      {
       "output_type": "stream",
       "stream": "stdout",
       "text": [
        "\n",
        "For k value of 100 = score is 0.533333333333\n",
        "For k value of 101 = score is 0.533333333333\n",
        "For k value of 102 = score is 0.526666666667"
       ]
      },
      {
       "output_type": "stream",
       "stream": "stdout",
       "text": [
        "\n",
        "For k value of 103 = score is 0.526666666667\n",
        "For k value of 104 = score is 0.526666666667\n",
        "For k value of 105 = score is 0.526666666667"
       ]
      },
      {
       "output_type": "stream",
       "stream": "stdout",
       "text": [
        "\n",
        "For k value of 106 = score is 0.513333333333\n",
        "For k value of 107 = score is 0.506666666667\n",
        "For k value of 108 = score is 0.506666666667"
       ]
      },
      {
       "output_type": "stream",
       "stream": "stdout",
       "text": [
        "\n",
        "For k value of 109 = score is 0.5\n",
        "For k value of 110 = score is 0.5\n",
        "For k value of 111 = score is 0.493333333333"
       ]
      },
      {
       "output_type": "stream",
       "stream": "stdout",
       "text": [
        "\n",
        "For k value of 112 = score is 0.48\n",
        "For k value of 113 = score is 0.48\n",
        "For k value of 114 = score is 0.473333333333"
       ]
      },
      {
       "output_type": "stream",
       "stream": "stdout",
       "text": [
        "\n",
        "For k value of 115 = score is 0.453333333333\n",
        "For k value of 116 = score is 0.453333333333\n",
        "For k value of 117 = score is 0.426666666667"
       ]
      },
      {
       "output_type": "stream",
       "stream": "stdout",
       "text": [
        "\n",
        "For k value of 118 = score is 0.42\n",
        "For k value of 119 = score is 0.42\n",
        "For k value of 120 = score is 0.42"
       ]
      },
      {
       "output_type": "stream",
       "stream": "stdout",
       "text": [
        "\n",
        "For k value of 121 = score is 0.366666666667\n",
        "For k value of 122 = score is 0.36\n",
        "For k value of 123 = score is 0.36"
       ]
      },
      {
       "output_type": "stream",
       "stream": "stdout",
       "text": [
        "\n",
        "For k value of 124 = score is 0.306666666667\n",
        "For k value of 125 = score is 0.233333333333\n",
        "For k value of 126 = score is 0.233333333333"
       ]
      },
      {
       "output_type": "stream",
       "stream": "stdout",
       "text": [
        "\n",
        "For k value of 127 = score is 0.233333333333\n",
        "For k value of 128 = score is 0.233333333333\n",
        "For k value of 129 = score is 0.233333333333"
       ]
      },
      {
       "output_type": "stream",
       "stream": "stdout",
       "text": [
        "\n",
        "For k value of 130 = score is 0.233333333333\n",
        "For k value of 131 = score is 0.233333333333\n",
        "For k value of 132 = score is 0.233333333333"
       ]
      },
      {
       "output_type": "stream",
       "stream": "stdout",
       "text": [
        "\n",
        "For k value of 133 = score is 0.233333333333\n",
        "For k value of 134 = score is 0.233333333333\n",
        "For k value of 135 = score is 0.233333333333"
       ]
      },
      {
       "output_type": "stream",
       "stream": "stdout",
       "text": [
        "\n",
        "For k value of 136 = score is 0.233333333333\n",
        "For k value of 137 = score is 0.233333333333\n",
        "For k value of 138 = score is 0.233333333333"
       ]
      },
      {
       "output_type": "stream",
       "stream": "stdout",
       "text": [
        "\n",
        "For k value of 139 = score is 0.233333333333\n",
        "For k value of 140 = score is 0.233333333333\n",
        "For k value of 141 = score is 0.233333333333"
       ]
      },
      {
       "output_type": "stream",
       "stream": "stdout",
       "text": [
        "\n",
        "For k value of 142 = score is 0.233333333333\n",
        "For k value of 143 = score is 0.233333333333\n",
        "For k value of 144 = score is 0.233333333333"
       ]
      },
      {
       "output_type": "stream",
       "stream": "stdout",
       "text": [
        "\n",
        "For k value of 145 = score is 0.233333333333\n",
        "For k value of 146 = score is 0.233333333333\n",
        "For k value of 147 = score is 0.233333333333"
       ]
      },
      {
       "output_type": "stream",
       "stream": "stdout",
       "text": [
        "\n",
        "For k value of 148 = score is 0.233333333333\n",
        "For k value of 149 = score is 0.233333333333\n"
       ]
      }
     ],
     "prompt_number": 154
    },
    {
     "cell_type": "code",
     "collapsed": false,
     "input": [
      "X = range(1,150)\n",
      "Y = C\n",
      "\n",
      "pyplot.plot( X, Y, '-' )\n",
      "pyplot.title( 'Plotting the values of Kmeans with their scores with cross validation as 6' )\n",
      "pyplot.xlabel( 'K-value' )\n",
      "pyplot.ylabel( 'Score' )\n",
      "pyplot.show()"
     ],
     "language": "python",
     "metadata": {},
     "outputs": [
      {
       "metadata": {},
       "output_type": "display_data",
       "png": "[encoded data removed]",
       "text": [
        "<matplotlib.figure.Figure at 0x109865710>"
       ]
      }
     ],
     "prompt_number": 155
    },
    {
     "cell_type": "code",
     "collapsed": false,
     "input": [
      "# Split across 10 cross fold validations.\n",
      "\n",
      "# X = numpy array of just the data set.\n",
      "# y = numpy array of just the New_Target column defined above.\n",
      "\n",
      "X = data[['SepalLength', 'SepalWidth', 'PetalLenght', 'PetalWidth']].values\n",
      "y = data['New_Target'].values\n",
      "\n",
      "X_train, X_test, y_train, y_test = train_test_split( X, y, test_size=0.10, random_state=0)\n",
      "\n",
      "cross_validate(X, y, KNeighborsClassifier(3).fit, 10)"
     ],
     "language": "python",
     "metadata": {},
     "outputs": [
      {
       "metadata": {},
       "output_type": "pyout",
       "prompt_number": 156,
       "text": [
        "0.95999999999999996"
       ]
      }
     ],
     "prompt_number": 156
    },
    {
     "cell_type": "code",
     "collapsed": false,
     "input": [
      "D = []\n",
      "for i in range(1, 150):\n",
      "    myknn = KNeighborsClassifier(i).fit\n",
      "    print \"For k value of \" + str(i) + \" = \" + \"score is \" + str(cross_validate (X, y, myknn, 10))\n",
      "    D.append(str(cross_validate (X, y, myknn, 10)))"
     ],
     "language": "python",
     "metadata": {},
     "outputs": [
      {
       "output_type": "stream",
       "stream": "stdout",
       "text": [
        "For k value of 1 = score is 0.96\n",
        "For k value of 2 = score is 0.946666666667\n",
        "For k value of 3 = score is 0.96\n",
        "For k value of 4 = score is 0.946666666667"
       ]
      },
      {
       "output_type": "stream",
       "stream": "stdout",
       "text": [
        "\n",
        "For k value of 5 = score is 0.96\n",
        "For k value of 6 = score is 0.96\n",
        "For k value of 7 = score is 0.953333333333"
       ]
      },
      {
       "output_type": "stream",
       "stream": "stdout",
       "text": [
        "\n",
        "For k value of 8 = score is 0.953333333333\n",
        "For k value of 9 = score is 0.953333333333\n",
        "For k value of 10 = score is 0.953333333333"
       ]
      },
      {
       "output_type": "stream",
       "stream": "stdout",
       "text": [
        "\n",
        "For k value of 11 = score is 0.96\n",
        "For k value of 12 = score is 0.953333333333\n",
        "For k value of 13 = score is 0.966666666667"
       ]
      },
      {
       "output_type": "stream",
       "stream": "stdout",
       "text": [
        "\n",
        "For k value of 14 = score is 0.966666666667\n",
        "For k value of 15 = score is 0.966666666667\n",
        "For k value of 16 = score is 0.953333333333"
       ]
      },
      {
       "output_type": "stream",
       "stream": "stdout",
       "text": [
        "\n",
        "For k value of 17 = score is 0.96\n",
        "For k value of 18 = score is 0.953333333333\n",
        "For k value of 19 = score is 0.966666666667"
       ]
      },
      {
       "output_type": "stream",
       "stream": "stdout",
       "text": [
        "\n",
        "For k value of 20 = score is 0.96\n",
        "For k value of 21 = score is 0.96\n",
        "For k value of 22 = score is 0.946666666667"
       ]
      },
      {
       "output_type": "stream",
       "stream": "stdout",
       "text": [
        "\n",
        "For k value of 23 = score is 0.946666666667\n",
        "For k value of 24 = score is 0.946666666667\n",
        "For k value of 25 = score is 0.946666666667"
       ]
      },
      {
       "output_type": "stream",
       "stream": "stdout",
       "text": [
        "\n",
        "For k value of 26 = score is 0.94\n",
        "For k value of 27 = score is 0.953333333333\n",
        "For k value of 28 = score is 0.946666666667"
       ]
      },
      {
       "output_type": "stream",
       "stream": "stdout",
       "text": [
        "\n",
        "For k value of 29 = score is 0.94\n",
        "For k value of 30 = score is 0.946666666667\n",
        "For k value of 31 = score is 0.933333333333"
       ]
      },
      {
       "output_type": "stream",
       "stream": "stdout",
       "text": [
        "\n",
        "For k value of 32 = score is 0.94\n",
        "For k value of 33 = score is 0.94\n",
        "For k value of 34 = score is 0.933333333333"
       ]
      },
      {
       "output_type": "stream",
       "stream": "stdout",
       "text": [
        "\n",
        "For k value of 35 = score is 0.926666666667\n",
        "For k value of 36 = score is 0.946666666667\n",
        "For k value of 37 = score is 0.933333333333"
       ]
      },
      {
       "output_type": "stream",
       "stream": "stdout",
       "text": [
        "\n",
        "For k value of 38 = score is 0.94\n",
        "For k value of 39 = score is 0.94\n",
        "For k value of 40 = score is 0.933333333333"
       ]
      },
      {
       "output_type": "stream",
       "stream": "stdout",
       "text": [
        "\n",
        "For k value of 41 = score is 0.94\n",
        "For k value of 42 = score is 0.933333333333\n",
        "For k value of 43 = score is 0.94"
       ]
      },
      {
       "output_type": "stream",
       "stream": "stdout",
       "text": [
        "\n",
        "For k value of 44 = score is 0.933333333333\n",
        "For k value of 45 = score is 0.926666666667\n",
        "For k value of 46 = score is 0.926666666667"
       ]
      },
      {
       "output_type": "stream",
       "stream": "stdout",
       "text": [
        "\n",
        "For k value of 47 = score is 0.926666666667\n",
        "For k value of 48 = score is 0.906666666667"
       ]
      },
      {
       "output_type": "stream",
       "stream": "stdout",
       "text": [
        "\n",
        "For k value of 49 = score is 0.92\n",
        "For k value of 50 = score is 0.913333333333\n",
        "For k value of 51 = score is 0.913333333333"
       ]
      },
      {
       "output_type": "stream",
       "stream": "stdout",
       "text": [
        "\n",
        "For k value of 52 = score is 0.9\n",
        "For k value of 53 = score is 0.906666666667\n",
        "For k value of 54 = score is 0.906666666667"
       ]
      },
      {
       "output_type": "stream",
       "stream": "stdout",
       "text": [
        "\n",
        "For k value of 55 = score is 0.906666666667\n",
        "For k value of 56 = score is 0.9\n",
        "For k value of 57 = score is 0.9"
       ]
      },
      {
       "output_type": "stream",
       "stream": "stdout",
       "text": [
        "\n",
        "For k value of 58 = score is 0.9\n",
        "For k value of 59 = score is 0.9\n",
        "For k value of 60 = score is 0.9"
       ]
      },
      {
       "output_type": "stream",
       "stream": "stdout",
       "text": [
        "\n",
        "For k value of 61 = score is 0.9\n",
        "For k value of 62 = score is 0.893333333333\n",
        "For k value of 63 = score is 0.9"
       ]
      },
      {
       "output_type": "stream",
       "stream": "stdout",
       "text": [
        "\n",
        "For k value of 64 = score is 0.893333333333\n",
        "For k value of 65 = score is 0.9\n",
        "For k value of 66 = score is 0.893333333333"
       ]
      },
      {
       "output_type": "stream",
       "stream": "stdout",
       "text": [
        "\n",
        "For k value of 67 = score is 0.893333333333\n",
        "For k value of 68 = score is 0.9"
       ]
      },
      {
       "output_type": "stream",
       "stream": "stdout",
       "text": [
        "\n",
        "For k value of 69 = score is 0.893333333333\n",
        "For k value of 70 = score is 0.88"
       ]
      },
      {
       "output_type": "stream",
       "stream": "stdout",
       "text": [
        "\n",
        "For k value of 71 = score is 0.886666666667\n",
        "For k value of 72 = score is 0.873333333333\n",
        "For k value of 73 = score is 0.88"
       ]
      },
      {
       "output_type": "stream",
       "stream": "stdout",
       "text": [
        "\n",
        "For k value of 74 = score is 0.866666666667\n",
        "For k value of 75 = score is 0.88"
       ]
      },
      {
       "output_type": "stream",
       "stream": "stdout",
       "text": [
        "\n",
        "For k value of 76 = score is 0.88\n",
        "For k value of 77 = score is 0.86\n",
        "For k value of 78 = score is 0.86"
       ]
      },
      {
       "output_type": "stream",
       "stream": "stdout",
       "text": [
        "\n",
        "For k value of 79 = score is 0.86\n",
        "For k value of 80 = score is 0.846666666667"
       ]
      },
      {
       "output_type": "stream",
       "stream": "stdout",
       "text": [
        "\n",
        "For k value of 81 = score is 0.84\n",
        "For k value of 82 = score is 0.84"
       ]
      },
      {
       "output_type": "stream",
       "stream": "stdout",
       "text": [
        "\n",
        "For k value of 83 = score is 0.846666666667\n",
        "For k value of 84 = score is 0.84"
       ]
      },
      {
       "output_type": "stream",
       "stream": "stdout",
       "text": [
        "\n",
        "For k value of 85 = score is 0.826666666667\n",
        "For k value of 86 = score is 0.74"
       ]
      },
      {
       "output_type": "stream",
       "stream": "stdout",
       "text": [
        "\n",
        "For k value of 87 = score is 0.733333333333\n",
        "For k value of 88 = score is 0.733333333333"
       ]
      },
      {
       "output_type": "stream",
       "stream": "stdout",
       "text": [
        "\n",
        "For k value of 89 = score is 0.713333333333\n",
        "For k value of 90 = score is 0.626666666667"
       ]
      },
      {
       "output_type": "stream",
       "stream": "stdout",
       "text": [
        "\n",
        "For k value of 91 = score is 0.586666666667\n",
        "For k value of 92 = score is 0.566666666667"
       ]
      },
      {
       "output_type": "stream",
       "stream": "stdout",
       "text": [
        "\n",
        "For k value of 93 = score is 0.54\n",
        "For k value of 94 = score is 0.533333333333"
       ]
      },
      {
       "output_type": "stream",
       "stream": "stdout",
       "text": [
        "\n",
        "For k value of 95 = score is 0.52\n",
        "For k value of 96 = score is 0.52"
       ]
      },
      {
       "output_type": "stream",
       "stream": "stdout",
       "text": [
        "\n",
        "For k value of 97 = score is 0.513333333333\n",
        "For k value of 98 = score is 0.493333333333"
       ]
      },
      {
       "output_type": "stream",
       "stream": "stdout",
       "text": [
        "\n",
        "For k value of 99 = score is 0.493333333333\n",
        "For k value of 100 = score is 0.493333333333"
       ]
      },
      {
       "output_type": "stream",
       "stream": "stdout",
       "text": [
        "\n",
        "For k value of 101 = score is 0.486666666667\n",
        "For k value of 102 = score is 0.466666666667"
       ]
      },
      {
       "output_type": "stream",
       "stream": "stdout",
       "text": [
        "\n",
        "For k value of 103 = score is 0.46\n",
        "For k value of 104 = score is 0.466666666667"
       ]
      },
      {
       "output_type": "stream",
       "stream": "stdout",
       "text": [
        "\n",
        "For k value of 105 = score is 0.466666666667\n",
        "For k value of 106 = score is 0.466666666667"
       ]
      },
      {
       "output_type": "stream",
       "stream": "stdout",
       "text": [
        "\n",
        "For k value of 107 = score is 0.466666666667\n",
        "For k value of 108 = score is 0.466666666667"
       ]
      },
      {
       "output_type": "stream",
       "stream": "stdout",
       "text": [
        "\n",
        "For k value of 109 = score is 0.46\n",
        "For k value of 110 = score is 0.46"
       ]
      },
      {
       "output_type": "stream",
       "stream": "stdout",
       "text": [
        "\n",
        "For k value of 111 = score is 0.46\n",
        "For k value of 112 = score is 0.46"
       ]
      },
      {
       "output_type": "stream",
       "stream": "stdout",
       "text": [
        "\n",
        "For k value of 113 = score is 0.46\n",
        "For k value of 114 = score is 0.46"
       ]
      },
      {
       "output_type": "stream",
       "stream": "stdout",
       "text": [
        "\n",
        "For k value of 115 = score is 0.46\n",
        "For k value of 116 = score is 0.46"
       ]
      },
      {
       "output_type": "stream",
       "stream": "stdout",
       "text": [
        "\n",
        "For k value of 117 = score is 0.46\n",
        "For k value of 118 = score is 0.46"
       ]
      },
      {
       "output_type": "stream",
       "stream": "stdout",
       "text": [
        "\n",
        "For k value of 119 = score is 0.46\n",
        "For k value of 120 = score is 0.46"
       ]
      },
      {
       "output_type": "stream",
       "stream": "stdout",
       "text": [
        "\n",
        "For k value of 121 = score is 0.453333333333\n",
        "For k value of 122 = score is 0.446666666667"
       ]
      },
      {
       "output_type": "stream",
       "stream": "stdout",
       "text": [
        "\n",
        "For k value of 123 = score is 0.44\n",
        "For k value of 124 = score is 0.433333333333"
       ]
      },
      {
       "output_type": "stream",
       "stream": "stdout",
       "text": [
        "\n",
        "For k value of 125 = score is 0.426666666667\n",
        "For k value of 126 = score is 0.406666666667"
       ]
      },
      {
       "output_type": "stream",
       "stream": "stdout",
       "text": [
        "\n",
        "For k value of 127 = score is 0.4\n",
        "For k value of 128 = score is 0.386666666667"
       ]
      },
      {
       "output_type": "stream",
       "stream": "stdout",
       "text": [
        "\n",
        "For k value of 129 = score is 0.38\n",
        "For k value of 130 = score is 0.366666666667"
       ]
      },
      {
       "output_type": "stream",
       "stream": "stdout",
       "text": [
        "\n",
        "For k value of 131 = score is 0.366666666667\n",
        "For k value of 132 = score is 0.346666666667"
       ]
      },
      {
       "output_type": "stream",
       "stream": "stdout",
       "text": [
        "\n",
        "For k value of 133 = score is 0.333333333333\n",
        "For k value of 134 = score is 0.26"
       ]
      },
      {
       "output_type": "stream",
       "stream": "stdout",
       "text": [
        "\n",
        "For k value of 135 = score is 0.193333333333\n",
        "For k value of 136 = score is 0.193333333333"
       ]
      },
      {
       "output_type": "stream",
       "stream": "stdout",
       "text": [
        "\n",
        "For k value of 137 = score is 0.193333333333\n",
        "For k value of 138 = score is 0.193333333333"
       ]
      },
      {
       "output_type": "stream",
       "stream": "stdout",
       "text": [
        "\n",
        "For k value of 139 = score is 0.193333333333\n",
        "For k value of 140 = score is 0.193333333333"
       ]
      },
      {
       "output_type": "stream",
       "stream": "stdout",
       "text": [
        "\n",
        "For k value of 141 = score is 0.193333333333\n",
        "For k value of 142 = score is 0.193333333333"
       ]
      },
      {
       "output_type": "stream",
       "stream": "stdout",
       "text": [
        "\n",
        "For k value of 143 = score is 0.193333333333\n",
        "For k value of 144 = score is 0.193333333333"
       ]
      },
      {
       "output_type": "stream",
       "stream": "stdout",
       "text": [
        "\n",
        "For k value of 145 = score is 0.193333333333\n",
        "For k value of 146 = score is 0.193333333333"
       ]
      },
      {
       "output_type": "stream",
       "stream": "stdout",
       "text": [
        "\n",
        "For k value of 147 = score is 0.193333333333\n",
        "For k value of 148 = score is 0.193333333333"
       ]
      },
      {
       "output_type": "stream",
       "stream": "stdout",
       "text": [
        "\n",
        "For k value of 149 = score is 0.193333333333\n"
       ]
      }
     ],
     "prompt_number": 157
    },
    {
     "cell_type": "code",
     "collapsed": false,
     "input": [
      "X = range(1,150)\n",
      "Y = D\n",
      "\n",
      "pyplot.plot( X, Y, '-' )\n",
      "pyplot.title( 'Plotting the values of Kmeans with their scores with cross validation as 10' )\n",
      "pyplot.xlabel( 'K-value' )\n",
      "pyplot.ylabel( 'Score' )\n",
      "pyplot.show()"
     ],
     "language": "python",
     "metadata": {},
     "outputs": [
      {
       "metadata": {},
       "output_type": "display_data",
       "png": "[encoded data removed]",
       "text": [
        "<matplotlib.figure.Figure at 0x10989c510>"
       ]
      }
     ],
     "prompt_number": 158
    },
    {
     "cell_type": "code",
     "collapsed": false,
     "input": [
      "# Split across 15 cross fold validations.\n",
      "\n",
      "# X = numpy array of just the data set.\n",
      "# y = numpy array of just the New_Target column defined above.\n",
      "\n",
      "X = data[['SepalLength', 'SepalWidth', 'PetalLenght', 'PetalWidth']].values\n",
      "y = data['New_Target'].values\n",
      "\n",
      "X_train, X_test, y_train, y_test = train_test_split( X, y, test_size=0.066, random_state=0)\n",
      "\n",
      "cross_validate(X, y, KNeighborsClassifier(3).fit, 15)"
     ],
     "language": "python",
     "metadata": {},
     "outputs": [
      {
       "metadata": {},
       "output_type": "pyout",
       "prompt_number": 159,
       "text": [
        "0.96000000000000008"
       ]
      }
     ],
     "prompt_number": 159
    },
    {
     "cell_type": "code",
     "collapsed": false,
     "input": [
      "E = []\n",
      "for i in range(1, 150):\n",
      "    myknn = KNeighborsClassifier(i).fit\n",
      "    print \"For k value of \" + str(i) + \" = \" + \"score is \" + str(cross_validate (X, y, myknn, 15))\n",
      "    E.append(str(cross_validate (X, y, myknn, 15)))"
     ],
     "language": "python",
     "metadata": {},
     "outputs": [
      {
       "output_type": "stream",
       "stream": "stdout",
       "text": [
        "For k value of 1 = score is 0.96\n",
        "For k value of 2 = score is 0.946666666667\n",
        "For k value of 3 = score is 0.96"
       ]
      },
      {
       "output_type": "stream",
       "stream": "stdout",
       "text": [
        "\n",
        "For k value of 4 = score is 0.946666666667\n",
        "For k value of 5 = score is 0.953333333333"
       ]
      },
      {
       "output_type": "stream",
       "stream": "stdout",
       "text": [
        "\n",
        "For k value of 6 = score is 0.96\n",
        "For k value of 7 = score is 0.953333333333"
       ]
      },
      {
       "output_type": "stream",
       "stream": "stdout",
       "text": [
        "\n",
        "For k value of 8 = score is 0.96\n",
        "For k value of 9 = score is 0.953333333333"
       ]
      },
      {
       "output_type": "stream",
       "stream": "stdout",
       "text": [
        "\n",
        "For k value of 10 = score is 0.96\n",
        "For k value of 11 = score is 0.966666666667"
       ]
      },
      {
       "output_type": "stream",
       "stream": "stdout",
       "text": [
        "\n",
        "For k value of 12 = score is 0.96\n",
        "For k value of 13 = score is 0.966666666667"
       ]
      },
      {
       "output_type": "stream",
       "stream": "stdout",
       "text": [
        "\n",
        "For k value of 14 = score is 0.96\n",
        "For k value of 15 = score is 0.966666666667"
       ]
      },
      {
       "output_type": "stream",
       "stream": "stdout",
       "text": [
        "\n",
        "For k value of 16 = score is 0.953333333333\n",
        "For k value of 17 = score is 0.966666666667"
       ]
      },
      {
       "output_type": "stream",
       "stream": "stdout",
       "text": [
        "\n",
        "For k value of 18 = score is 0.96\n",
        "For k value of 19 = score is 0.966666666667"
       ]
      },
      {
       "output_type": "stream",
       "stream": "stdout",
       "text": [
        "\n",
        "For k value of 20 = score is 0.96\n",
        "For k value of 21 = score is 0.966666666667"
       ]
      },
      {
       "output_type": "stream",
       "stream": "stdout",
       "text": [
        "\n",
        "For k value of 22 = score is 0.96\n",
        "For k value of 23 = score is 0.966666666667"
       ]
      },
      {
       "output_type": "stream",
       "stream": "stdout",
       "text": [
        "\n",
        "For k value of 24 = score is 0.96\n",
        "For k value of 25 = score is 0.953333333333"
       ]
      },
      {
       "output_type": "stream",
       "stream": "stdout",
       "text": [
        "\n",
        "For k value of 26 = score is 0.94\n",
        "For k value of 27 = score is 0.953333333333"
       ]
      },
      {
       "output_type": "stream",
       "stream": "stdout",
       "text": [
        "\n",
        "For k value of 28 = score is 0.94\n",
        "For k value of 29 = score is 0.946666666667"
       ]
      },
      {
       "output_type": "stream",
       "stream": "stdout",
       "text": [
        "\n",
        "For k value of 30 = score is 0.94\n",
        "For k value of 31 = score is 0.953333333333"
       ]
      },
      {
       "output_type": "stream",
       "stream": "stdout",
       "text": [
        "\n",
        "For k value of 32 = score is 0.946666666667\n",
        "For k value of 33 = score is 0.953333333333"
       ]
      },
      {
       "output_type": "stream",
       "stream": "stdout",
       "text": [
        "\n",
        "For k value of 34 = score is 0.94\n",
        "For k value of 35 = score is 0.946666666667"
       ]
      },
      {
       "output_type": "stream",
       "stream": "stdout",
       "text": [
        "\n",
        "For k value of 36 = score is 0.946666666667\n",
        "For k value of 37 = score is 0.946666666667"
       ]
      },
      {
       "output_type": "stream",
       "stream": "stdout",
       "text": [
        "\n",
        "For k value of 38 = score is 0.953333333333"
       ]
      },
      {
       "output_type": "stream",
       "stream": "stdout",
       "text": [
        "\n",
        "For k value of 39 = score is 0.96\n",
        "For k value of 40 = score is 0.946666666667"
       ]
      },
      {
       "output_type": "stream",
       "stream": "stdout",
       "text": [
        "\n",
        "For k value of 41 = score is 0.953333333333\n",
        "For k value of 42 = score is 0.946666666667"
       ]
      },
      {
       "output_type": "stream",
       "stream": "stdout",
       "text": [
        "\n",
        "For k value of 43 = score is 0.946666666667\n",
        "For k value of 44 = score is 0.94"
       ]
      },
      {
       "output_type": "stream",
       "stream": "stdout",
       "text": [
        "\n",
        "For k value of 45 = score is 0.94\n",
        "For k value of 46 = score is 0.933333333333"
       ]
      },
      {
       "output_type": "stream",
       "stream": "stdout",
       "text": [
        "\n",
        "For k value of 47 = score is 0.94"
       ]
      },
      {
       "output_type": "stream",
       "stream": "stdout",
       "text": [
        "\n",
        "For k value of 48 = score is 0.926666666667\n",
        "For k value of 49 = score is 0.94"
       ]
      },
      {
       "output_type": "stream",
       "stream": "stdout",
       "text": [
        "\n",
        "For k value of 50 = score is 0.933333333333\n",
        "For k value of 51 = score is 0.94"
       ]
      },
      {
       "output_type": "stream",
       "stream": "stdout",
       "text": [
        "\n",
        "For k value of 52 = score is 0.926666666667"
       ]
      },
      {
       "output_type": "stream",
       "stream": "stdout",
       "text": [
        "\n",
        "For k value of 53 = score is 0.92\n",
        "For k value of 54 = score is 0.92"
       ]
      },
      {
       "output_type": "stream",
       "stream": "stdout",
       "text": [
        "\n",
        "For k value of 55 = score is 0.913333333333"
       ]
      },
      {
       "output_type": "stream",
       "stream": "stdout",
       "text": [
        "\n",
        "For k value of 56 = score is 0.92"
       ]
      },
      {
       "output_type": "stream",
       "stream": "stdout",
       "text": [
        "\n",
        "For k value of 57 = score is 0.913333333333"
       ]
      },
      {
       "output_type": "stream",
       "stream": "stdout",
       "text": [
        "\n",
        "For k value of 58 = score is 0.926666666667\n",
        "For k value of 59 = score is 0.913333333333"
       ]
      },
      {
       "output_type": "stream",
       "stream": "stdout",
       "text": [
        "\n",
        "For k value of 60 = score is 0.9\n",
        "For k value of 61 = score is 0.906666666667"
       ]
      },
      {
       "output_type": "stream",
       "stream": "stdout",
       "text": [
        "\n",
        "For k value of 62 = score is 0.906666666667"
       ]
      },
      {
       "output_type": "stream",
       "stream": "stdout",
       "text": [
        "\n",
        "For k value of 63 = score is 0.9\n",
        "For k value of 64 = score is 0.913333333333"
       ]
      },
      {
       "output_type": "stream",
       "stream": "stdout",
       "text": [
        "\n",
        "For k value of 65 = score is 0.913333333333"
       ]
      },
      {
       "output_type": "stream",
       "stream": "stdout",
       "text": [
        "\n",
        "For k value of 66 = score is 0.913333333333\n",
        "For k value of 67 = score is 0.893333333333"
       ]
      },
      {
       "output_type": "stream",
       "stream": "stdout",
       "text": [
        "\n",
        "For k value of 68 = score is 0.893333333333\n",
        "For k value of 69 = score is 0.893333333333"
       ]
      },
      {
       "output_type": "stream",
       "stream": "stdout",
       "text": [
        "\n",
        "For k value of 70 = score is 0.893333333333\n",
        "For k value of 71 = score is 0.893333333333"
       ]
      },
      {
       "output_type": "stream",
       "stream": "stdout",
       "text": [
        "\n",
        "For k value of 72 = score is 0.886666666667\n",
        "For k value of 73 = score is 0.893333333333"
       ]
      },
      {
       "output_type": "stream",
       "stream": "stdout",
       "text": [
        "\n",
        "For k value of 74 = score is 0.873333333333\n",
        "For k value of 75 = score is 0.886666666667"
       ]
      },
      {
       "output_type": "stream",
       "stream": "stdout",
       "text": [
        "\n",
        "For k value of 76 = score is 0.873333333333\n",
        "For k value of 77 = score is 0.873333333333"
       ]
      },
      {
       "output_type": "stream",
       "stream": "stdout",
       "text": [
        "\n",
        "For k value of 78 = score is 0.886666666667\n",
        "For k value of 79 = score is 0.893333333333"
       ]
      },
      {
       "output_type": "stream",
       "stream": "stdout",
       "text": [
        "\n",
        "For k value of 80 = score is 0.88\n",
        "For k value of 81 = score is 0.873333333333"
       ]
      },
      {
       "output_type": "stream",
       "stream": "stdout",
       "text": [
        "\n",
        "For k value of 82 = score is 0.873333333333\n",
        "For k value of 83 = score is 0.88"
       ]
      },
      {
       "output_type": "stream",
       "stream": "stdout",
       "text": [
        "\n",
        "For k value of 84 = score is 0.873333333333\n",
        "For k value of 85 = score is 0.846666666667"
       ]
      },
      {
       "output_type": "stream",
       "stream": "stdout",
       "text": [
        "\n",
        "For k value of 86 = score is 0.853333333333\n",
        "For k value of 87 = score is 0.86"
       ]
      },
      {
       "output_type": "stream",
       "stream": "stdout",
       "text": [
        "\n",
        "For k value of 88 = score is 0.793333333333\n",
        "For k value of 89 = score is 0.753333333333"
       ]
      },
      {
       "output_type": "stream",
       "stream": "stdout",
       "text": [
        "\n",
        "For k value of 90 = score is 0.733333333333\n",
        "For k value of 91 = score is 0.726666666667"
       ]
      },
      {
       "output_type": "stream",
       "stream": "stdout",
       "text": [
        "\n",
        "For k value of 92 = score is 0.713333333333"
       ]
      },
      {
       "output_type": "stream",
       "stream": "stdout",
       "text": [
        "\n",
        "For k value of 93 = score is 0.7"
       ]
      },
      {
       "output_type": "stream",
       "stream": "stdout",
       "text": [
        "\n",
        "For k value of 94 = score is 0.666666666667"
       ]
      },
      {
       "output_type": "stream",
       "stream": "stdout",
       "text": [
        "\n",
        "For k value of 95 = score is 0.673333333333\n",
        "For k value of 96 = score is 0.66"
       ]
      },
      {
       "output_type": "stream",
       "stream": "stdout",
       "text": [
        "\n",
        "For k value of 97 = score is 0.633333333333\n",
        "For k value of 98 = score is 0.633333333333"
       ]
      },
      {
       "output_type": "stream",
       "stream": "stdout",
       "text": [
        "\n",
        "For k value of 99 = score is 0.62"
       ]
      },
      {
       "output_type": "stream",
       "stream": "stdout",
       "text": [
        "\n",
        "For k value of 100 = score is 0.606666666667\n",
        "For k value of 101 = score is 0.58"
       ]
      },
      {
       "output_type": "stream",
       "stream": "stdout",
       "text": [
        "\n",
        "For k value of 102 = score is 0.553333333333\n",
        "For k value of 103 = score is 0.533333333333"
       ]
      },
      {
       "output_type": "stream",
       "stream": "stdout",
       "text": [
        "\n",
        "For k value of 104 = score is 0.526666666667\n",
        "For k value of 105 = score is 0.506666666667"
       ]
      },
      {
       "output_type": "stream",
       "stream": "stdout",
       "text": [
        "\n",
        "For k value of 106 = score is 0.473333333333\n",
        "For k value of 107 = score is 0.453333333333"
       ]
      },
      {
       "output_type": "stream",
       "stream": "stdout",
       "text": [
        "\n",
        "For k value of 108 = score is 0.453333333333\n",
        "For k value of 109 = score is 0.453333333333"
       ]
      },
      {
       "output_type": "stream",
       "stream": "stdout",
       "text": [
        "\n",
        "For k value of 110 = score is 0.453333333333\n",
        "For k value of 111 = score is 0.453333333333"
       ]
      },
      {
       "output_type": "stream",
       "stream": "stdout",
       "text": [
        "\n",
        "For k value of 112 = score is 0.453333333333"
       ]
      },
      {
       "output_type": "stream",
       "stream": "stdout",
       "text": [
        "\n",
        "For k value of 113 = score is 0.446666666667"
       ]
      },
      {
       "output_type": "stream",
       "stream": "stdout",
       "text": [
        "\n",
        "For k value of 114 = score is 0.446666666667"
       ]
      },
      {
       "output_type": "stream",
       "stream": "stdout",
       "text": [
        "\n",
        "For k value of 115 = score is 0.446666666667\n",
        "For k value of 116 = score is 0.446666666667"
       ]
      },
      {
       "output_type": "stream",
       "stream": "stdout",
       "text": [
        "\n",
        "For k value of 117 = score is 0.446666666667"
       ]
      },
      {
       "output_type": "stream",
       "stream": "stdout",
       "text": [
        "\n",
        "For k value of 118 = score is 0.446666666667\n",
        "For k value of 119 = score is 0.446666666667"
       ]
      },
      {
       "output_type": "stream",
       "stream": "stdout",
       "text": [
        "\n",
        "For k value of 120 = score is 0.446666666667\n",
        "For k value of 121 = score is 0.44"
       ]
      },
      {
       "output_type": "stream",
       "stream": "stdout",
       "text": [
        "\n",
        "For k value of 122 = score is 0.44\n",
        "For k value of 123 = score is 0.44"
       ]
      },
      {
       "output_type": "stream",
       "stream": "stdout",
       "text": [
        "\n",
        "For k value of 124 = score is 0.44\n",
        "For k value of 125 = score is 0.44"
       ]
      },
      {
       "output_type": "stream",
       "stream": "stdout",
       "text": [
        "\n",
        "For k value of 126 = score is 0.44\n",
        "For k value of 127 = score is 0.44"
       ]
      },
      {
       "output_type": "stream",
       "stream": "stdout",
       "text": [
        "\n",
        "For k value of 128 = score is 0.426666666667"
       ]
      },
      {
       "output_type": "stream",
       "stream": "stdout",
       "text": [
        "\n",
        "For k value of 129 = score is 0.413333333333"
       ]
      },
      {
       "output_type": "stream",
       "stream": "stdout",
       "text": [
        "\n",
        "For k value of 130 = score is 0.406666666667"
       ]
      },
      {
       "output_type": "stream",
       "stream": "stdout",
       "text": [
        "\n",
        "For k value of 131 = score is 0.406666666667"
       ]
      },
      {
       "output_type": "stream",
       "stream": "stdout",
       "text": [
        "\n",
        "For k value of 132 = score is 0.4"
       ]
      },
      {
       "output_type": "stream",
       "stream": "stdout",
       "text": [
        "\n",
        "For k value of 133 = score is 0.393333333333"
       ]
      },
      {
       "output_type": "stream",
       "stream": "stdout",
       "text": [
        "\n",
        "For k value of 134 = score is 0.393333333333"
       ]
      },
      {
       "output_type": "stream",
       "stream": "stdout",
       "text": [
        "\n",
        "For k value of 135 = score is 0.386666666667"
       ]
      },
      {
       "output_type": "stream",
       "stream": "stdout",
       "text": [
        "\n",
        "For k value of 136 = score is 0.366666666667"
       ]
      },
      {
       "output_type": "stream",
       "stream": "stdout",
       "text": [
        "\n",
        "For k value of 137 = score is 0.346666666667"
       ]
      },
      {
       "output_type": "stream",
       "stream": "stdout",
       "text": [
        "\n",
        "For k value of 138 = score is 0.32"
       ]
      },
      {
       "output_type": "stream",
       "stream": "stdout",
       "text": [
        "\n",
        "For k value of 139 = score is 0.226666666667\n",
        "For k value of 140 = score is 0.173333333333"
       ]
      },
      {
       "output_type": "stream",
       "stream": "stdout",
       "text": [
        "\n",
        "For k value of 141 = score is 0.173333333333"
       ]
      },
      {
       "output_type": "stream",
       "stream": "stdout",
       "text": [
        "\n",
        "For k value of 142 = score is 0.173333333333"
       ]
      },
      {
       "output_type": "stream",
       "stream": "stdout",
       "text": [
        "\n",
        "For k value of 143 = score is 0.173333333333"
       ]
      },
      {
       "output_type": "stream",
       "stream": "stdout",
       "text": [
        "\n",
        "For k value of 144 = score is 0.173333333333"
       ]
      },
      {
       "output_type": "stream",
       "stream": "stdout",
       "text": [
        "\n",
        "For k value of 145 = score is 0.173333333333"
       ]
      },
      {
       "output_type": "stream",
       "stream": "stdout",
       "text": [
        "\n",
        "For k value of 146 = score is 0.173333333333"
       ]
      },
      {
       "output_type": "stream",
       "stream": "stdout",
       "text": [
        "\n",
        "For k value of 147 = score is 0.173333333333"
       ]
      },
      {
       "output_type": "stream",
       "stream": "stdout",
       "text": [
        "\n",
        "For k value of 148 = score is 0.173333333333"
       ]
      },
      {
       "output_type": "stream",
       "stream": "stdout",
       "text": [
        "\n",
        "For k value of 149 = score is 0.173333333333"
       ]
      },
      {
       "output_type": "stream",
       "stream": "stdout",
       "text": [
        "\n"
       ]
      }
     ],
     "prompt_number": 160
    },
    {
     "cell_type": "code",
     "collapsed": false,
     "input": [
      "X = range(1,150)\n",
      "Y = E\n",
      "\n",
      "pyplot.plot( X, Y, '-' )\n",
      "pyplot.title( 'Plotting the values of Kmeans with their scores with cross validation as 15' )\n",
      "pyplot.xlabel( 'K-value' )\n",
      "pyplot.ylabel( 'Score' )\n",
      "pyplot.show()"
     ],
     "language": "python",
     "metadata": {},
     "outputs": [
      {
       "metadata": {},
       "output_type": "display_data",
       "png": "[encoded data removed]",
       "text": [
        "<matplotlib.figure.Figure at 0x109849e50>"
       ]
      }
     ],
     "prompt_number": 161
    },
    {
     "cell_type": "markdown",
     "metadata": {},
     "source": [
      "# Comparing the graphs, it looks like the Score value holds much longer for various values of increments of K, as the number of cross-folds increases.\n",
      "# It suggests us, that as for the higher values of cross validations, the accuracy or the score of the model is fairly accurate for \n",
      "# larger values of K. There is always a tipping point, from which the accuracy of the model sharply decreases for different values of \n",
      "# cross fold values.\n",
      "\n",
      "# For cross-fold = 2, the tipping pt for k = 40\n",
      "# For cross-fold = 3, the tipping pt for k = 56\n",
      "# For cross-fold = 5, the tipping pt for k = 67\n",
      "# For cross-fold = 6, the tipping pt for k = 77\n",
      "# For cross-fold = 10, the tipping pt for k = 85\n",
      "# For cross-fold = 15, the tipping pt for k = 90\n",
      "\n",
      "# PS: The tipping pt is when the score of the model starts to jump off the cliff for increasing values of K.\n"
     ]
    }
   ],
   "metadata": {}
  }
 ]
}